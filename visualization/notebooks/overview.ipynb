{
  "nbformat": 4,
  "nbformat_minor": 0,
  "metadata": {
    "colab": {
      "name": "overview.ipynb",
      "provenance": [],
      "authorship_tag": "ABX9TyOSIb58kmThg8i1MXtmd5jv",
      "include_colab_link": true
    },
    "kernelspec": {
      "name": "python3",
      "display_name": "Python 3"
    }
  },
  "cells": [
    {
      "cell_type": "markdown",
      "metadata": {
        "id": "view-in-github",
        "colab_type": "text"
      },
      "source": [
        "<a href=\"https://colab.research.google.com/github/andssuu/moncattle/blob/master/visualization/notebooks/overview.ipynb\" target=\"_parent\"><img src=\"https://colab.research.google.com/assets/colab-badge.svg\" alt=\"Open In Colab\"/></a>"
      ]
    },
    {
      "cell_type": "code",
      "metadata": {
        "colab": {
          "base_uri": "https://localhost:8080/"
        },
        "id": "Nw-HyTSBCizo",
        "outputId": "8f1170df-3138-4b08-91b5-5c9105d38a42"
      },
      "source": [
        "!git clone https://github.com/andssuu/moncattle.git"
      ],
      "execution_count": null,
      "outputs": [
        {
          "output_type": "stream",
          "text": [
            "Cloning into 'moncattle'...\n",
            "remote: Enumerating objects: 208, done.\u001b[K\n",
            "remote: Counting objects: 100% (208/208), done.\u001b[K\n",
            "remote: Compressing objects: 100% (150/150), done.\u001b[K\n",
            "remote: Total 208 (delta 89), reused 104 (delta 39), pack-reused 0\u001b[K\n",
            "Receiving objects: 100% (208/208), 2.21 MiB | 13.15 MiB/s, done.\n",
            "Resolving deltas: 100% (89/89), done.\n"
          ],
          "name": "stdout"
        }
      ]
    },
    {
      "cell_type": "markdown",
      "metadata": {
        "id": "x7pVNbwlOLEW"
      },
      "source": [
        "## Dados dos experimentos\n",
        "\n",
        "* 2 períodos: primeiro de 25/03/15 a 30/03/15 e de 06/04/15 a 09/04/15\n",
        "* 4 animais (3 distintos)\n",
        "* Foram utilizadas 4 coleiras (A, B, C e D). Entretanto, houve algumas falhas durante o experimento e, no final, ficaram as seguintes bases:\n",
        "  - A2 e A3\n",
        "  - B2 e B3\n",
        "  - C3 e C4\n",
        "  - D1, D2, D3 e D4\n",
        "* Sensores: acelerômetro, giroscópio, magnetômetro e GPS\n",
        "* As coletas eram feitas a cada 1 segundo para todos os sensores\n",
        "* Carregamento offline dos dados por um cartão SD\n",
        "* Classes de comportamentos: pastar, em pé, deitado e andando\n",
        "    * **Pastando/Procurando**: caracterizado pelo animal sobre as quatros patas, com a cabeça baixa procurando ou mastigando o capim. O animal pode ou não estar em movimento, já que ele pode estar se deslocando à procura de capim;\n",
        "    * **Andando**: o animal também está sobre as quatros patas, porém com o pescoço reto (apontando o fucinho para frente) e se deslocando pela área de pasto;\n",
        "    * **Em Pé**: o animal está sobre as quatro patas, com a cabeça erguida e não há deslocamento;\n",
        "    * **Deitado**: o animal está com as patas abaixadas e com a barriga tocando o solo."
      ]
    },
    {
      "cell_type": "markdown",
      "metadata": {
        "id": "92IhgET9CdAV"
      },
      "source": [
        "## Base de Dados\n",
        "\n",
        "O arquivo lomba.csv contém todos os dados aglutinados que foram utilizados. A estrutura de cabeçalho é definida da seguinte forma:\n",
        "\n",
        "IdColar | AccX | AccY | AccZ | MagX | MagY | MagZ | GirX | GirY | GirZ | Horario | Data | VelocidadeDeslocamento | Comportamento \n",
        " --- | --- | --- |--- |--- |--- |--- |--- |--- |--- |--- |---|---|---\n",
        "A2 | -11889 | 11184 | -17877 | -1280 | -73 | -309 | -4013 | 1260 | -31 | 131911.203 | 250515 | 000.0 | Comendo/Procurando\n",
        "A2 | -9144 | 8945 | -11799 | -1213 | 707 | -238 | -394 | 2278 | -602 | 131949.203 | 250515 | 000.0 | Comendo/Procurando\n",
        "A2 | 6391 | 9265 | -11767 | 570 | -405 | -1533 | -1072 | -1094 | 1854 | 132148.203 | 250515 | 000.0 | EmPe\n",
        "A2 | -1394 | 10206 | -13229 | 671 | -73 | -1590 | 287 | 2253 | -2760 | 132151.203 | 250515 | 000.0 | Comendo/Procurando\n",
        "...| ... | ... | ... | ... | ... | ... | ... | ... | ... | ... | ... | ... | ... \n",
        "D4 | 2152 | 7619 | -7736 | -1650 | 788 | 43 | -2980 | 3678 | -1357 | 122529.111 | 040715 | 000.0 | Comendo/Procurando\n",
        "\n",
        "\n",
        "No total há 13088 amostras. A tabela a seguir mostra a segmentação das amostras por coleira\n",
        "\n",
        "A2 | A3 | B2 | B3 | C3 | C4 | D1 | D2 | D3 | D4 | Total\n",
        "--- | --- | --- |--- |--- |--- |--- |--- |--- |--- |--- | \n",
        "1112 | 2033 | 1131 | 1735 | 1852 | 406 | 1126 | 1690 | 1598 | 405 | 13088\n"
      ]
    },
    {
      "cell_type": "code",
      "metadata": {
        "colab": {
          "base_uri": "https://localhost:8080/",
          "height": 204
        },
        "id": "mWnUwtpvCeEw",
        "outputId": "73a5bdaa-ac8b-40d8-f193-4cb358e2d8c8"
      },
      "source": [
        "import math\n",
        "from datetime import datetime\n",
        "\n",
        "import pandas as pd\n",
        "import numpy as np\n",
        "from sklearn.preprocessing import LabelEncoder\n",
        "import matplotlib\n",
        "import matplotlib.pyplot as plt\n",
        "\n",
        "df = pd.read_csv(\"moncattle/data/lomba.csv\", float_precision='high')\n",
        "df.head()"
      ],
      "execution_count": null,
      "outputs": [
        {
          "output_type": "execute_result",
          "data": {
            "text/html": [
              "<div>\n",
              "<style scoped>\n",
              "    .dataframe tbody tr th:only-of-type {\n",
              "        vertical-align: middle;\n",
              "    }\n",
              "\n",
              "    .dataframe tbody tr th {\n",
              "        vertical-align: top;\n",
              "    }\n",
              "\n",
              "    .dataframe thead th {\n",
              "        text-align: right;\n",
              "    }\n",
              "</style>\n",
              "<table border=\"1\" class=\"dataframe\">\n",
              "  <thead>\n",
              "    <tr style=\"text-align: right;\">\n",
              "      <th></th>\n",
              "      <th>id_colar</th>\n",
              "      <th>acc_x</th>\n",
              "      <th>acc_y</th>\n",
              "      <th>acc_z</th>\n",
              "      <th>mag_x</th>\n",
              "      <th>mag_y</th>\n",
              "      <th>mag_z</th>\n",
              "      <th>giro_x</th>\n",
              "      <th>giro_y</th>\n",
              "      <th>giro_z</th>\n",
              "      <th>horario</th>\n",
              "      <th>data</th>\n",
              "      <th>velocidade_deslocamento</th>\n",
              "      <th>comportamento</th>\n",
              "    </tr>\n",
              "  </thead>\n",
              "  <tbody>\n",
              "    <tr>\n",
              "      <th>0</th>\n",
              "      <td>A2</td>\n",
              "      <td>-11889</td>\n",
              "      <td>11184</td>\n",
              "      <td>-17877</td>\n",
              "      <td>-1280</td>\n",
              "      <td>-73</td>\n",
              "      <td>-309</td>\n",
              "      <td>-4013</td>\n",
              "      <td>1260</td>\n",
              "      <td>-31</td>\n",
              "      <td>131911.203</td>\n",
              "      <td>250515</td>\n",
              "      <td>0.0</td>\n",
              "      <td>Pastando</td>\n",
              "    </tr>\n",
              "    <tr>\n",
              "      <th>1</th>\n",
              "      <td>A2</td>\n",
              "      <td>-9144</td>\n",
              "      <td>8945</td>\n",
              "      <td>-11799</td>\n",
              "      <td>-1213</td>\n",
              "      <td>707</td>\n",
              "      <td>-238</td>\n",
              "      <td>-394</td>\n",
              "      <td>2278</td>\n",
              "      <td>-602</td>\n",
              "      <td>131949.203</td>\n",
              "      <td>250515</td>\n",
              "      <td>0.0</td>\n",
              "      <td>Pastando</td>\n",
              "    </tr>\n",
              "    <tr>\n",
              "      <th>2</th>\n",
              "      <td>A2</td>\n",
              "      <td>6391</td>\n",
              "      <td>9265</td>\n",
              "      <td>-11767</td>\n",
              "      <td>570</td>\n",
              "      <td>-405</td>\n",
              "      <td>-1533</td>\n",
              "      <td>-1072</td>\n",
              "      <td>-1094</td>\n",
              "      <td>1854</td>\n",
              "      <td>132148.203</td>\n",
              "      <td>250515</td>\n",
              "      <td>0.0</td>\n",
              "      <td>EmPe</td>\n",
              "    </tr>\n",
              "    <tr>\n",
              "      <th>3</th>\n",
              "      <td>A2</td>\n",
              "      <td>-1394</td>\n",
              "      <td>10206</td>\n",
              "      <td>-13229</td>\n",
              "      <td>671</td>\n",
              "      <td>-73</td>\n",
              "      <td>-1590</td>\n",
              "      <td>287</td>\n",
              "      <td>2253</td>\n",
              "      <td>-2760</td>\n",
              "      <td>132151.203</td>\n",
              "      <td>250515</td>\n",
              "      <td>0.0</td>\n",
              "      <td>Pastando</td>\n",
              "    </tr>\n",
              "    <tr>\n",
              "      <th>4</th>\n",
              "      <td>A2</td>\n",
              "      <td>-4864</td>\n",
              "      <td>5953</td>\n",
              "      <td>-10472</td>\n",
              "      <td>-84</td>\n",
              "      <td>-200</td>\n",
              "      <td>-1767</td>\n",
              "      <td>-7101</td>\n",
              "      <td>9206</td>\n",
              "      <td>-3595</td>\n",
              "      <td>132154.203</td>\n",
              "      <td>250515</td>\n",
              "      <td>0.0</td>\n",
              "      <td>Pastando</td>\n",
              "    </tr>\n",
              "  </tbody>\n",
              "</table>\n",
              "</div>"
            ],
            "text/plain": [
              "  id_colar  acc_x  acc_y  ...    data  velocidade_deslocamento  comportamento\n",
              "0       A2 -11889  11184  ...  250515                      0.0       Pastando\n",
              "1       A2  -9144   8945  ...  250515                      0.0       Pastando\n",
              "2       A2   6391   9265  ...  250515                      0.0           EmPe\n",
              "3       A2  -1394  10206  ...  250515                      0.0       Pastando\n",
              "4       A2  -4864   5953  ...  250515                      0.0       Pastando\n",
              "\n",
              "[5 rows x 14 columns]"
            ]
          },
          "metadata": {
            "tags": []
          },
          "execution_count": 37
        }
      ]
    },
    {
      "cell_type": "markdown",
      "metadata": {
        "id": "vaSsNj1ECmmd"
      },
      "source": [
        "## Visualização dos Dados"
      ]
    },
    {
      "cell_type": "code",
      "metadata": {
        "colab": {
          "base_uri": "https://localhost:8080/",
          "height": 523
        },
        "id": "LCVQ30PQCqxV",
        "outputId": "f997a779-ef62-4c7f-ba3a-de1b1d97abaf"
      },
      "source": [
        "fig = plt.figure(figsize=(20, 6))\n",
        "plt.rcParams.update({'font.size': 15})\n",
        "ax = fig.add_axes([0,1,1,1])\n",
        "comportamentos = list(set(df.comportamento.values))\n",
        "ax.set_title('Distribuição dos dados por classe', fontsize=20)\n",
        "count_list = [sum(df.comportamento==comportamento) for comportamento in comportamentos]\n",
        "ax.bar(comportamentos, count_list, edgecolor='black')\n",
        "count_list"
      ],
      "execution_count": null,
      "outputs": [
        {
          "output_type": "execute_result",
          "data": {
            "text/plain": [
              "[5732, 3736, 1229, 2391]"
            ]
          },
          "metadata": {
            "tags": []
          },
          "execution_count": 72
        },
        {
          "output_type": "display_data",
          "data": {
            "image/png": "[encoded data removed]",
            "text/plain": [
              "<Figure size 1440x432 with 1 Axes>"
            ]
          },
          "metadata": {
            "tags": [],
            "needs_background": "light"
          }
        }
      ]
    },
    {
      "cell_type": "markdown",
      "metadata": {
        "id": "X_rD_mG3NDTm"
      },
      "source": [
        "## Notebooks Sensores\n",
        "\n",
        "* [Acelerômetro](https://colab.research.google.com/github/andssuu/moncattle/blob/master/visualization/notebooks/accelerometer.ipynb)\n",
        "\n",
        "* [Giroscópio](https://colab.research.google.com/github/andssuu/moncattle/blob/master/visualization/notebooks/gyroscope.ipynb)\n",
        "\n",
        "* [Magnetômetro](https://colab.research.google.com/github/andssuu/moncattle/blob/master/visualization/notebooks/magnetometer.ipynb)\n"
      ]
    },
    {
      "cell_type": "markdown",
      "metadata": {
        "id": "SbzfT_7VNaQt"
      },
      "source": [
        "\n",
        "## Comparações Weka\n",
        "\n",
        "O autor utilizou a ferramenta WEKA para avaliar os modelos. A tabela abaixo contém os dados dos classificadores que obtiveram as melhores acurácias. A última coluna representa as novas acurácias que foram obtidas.\n",
        "\n",
        "Categoria | Algoritmo | Acurácia (%) | Acurácia² (%) \n",
        "--- | --- | --- | ---\n",
        "trees | Random Forest | 93.9868 | 94.1397\n",
        "meta | Rotation Forest | 93.7576 | 93.6889\n",
        "meta | Random Committee | 93.4749 | 93.4597\n",
        "meta | END | 93,0012 | ---\n",
        "meta | Bagging | 92,7338 | 92.6956\n",
        "meta | Decorate | 92,4587 | 92.5733\n",
        "lazy | IB1 | 91,8627 | 91.8628\n",
        "lazy | IBk | 91,8627 | 91.8628\n",
        "trees | J48 graft | 91,4349 | 91.03\n",
        "meta | Classification Via Regression | 91,4043 | 91.4043\n",
        "\n",
        "## Algoritmos\n",
        "\n",
        "* [SOM](https://colab.research.google.com/github/andssuu/moncattle/blob/master/unsupervised/notebooks/som.ipynb)\n",
        "\n",
        "* [K-Means](https://colab.research.google.com/github/andssuu/moncattle/blob/master/unsupervised/notebooks/k_means.ipynb)\n",
        "\n",
        "* [MLP](https://colab.research.google.com/github/andssuu/redes_neurais_pos/blob/main/projeto/notebooks/main.ipynb)\n",
        "\n",
        "* RBF\n",
        "\n",
        "* SVM\n",
        "\n",
        "\n",
        "## Links\n",
        "\n",
        "[Dissertação Luiz Lomba](https://repositorio.ufms.br/jspui/bitstream/123456789/2627/1/LUIZ%20FERNANDO%20DELBONI%20LOMBA.pdf)\n"
      ]
    }
  ]
}