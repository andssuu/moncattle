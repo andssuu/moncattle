{
  "nbformat": 4,
  "nbformat_minor": 0,
  "metadata": {
    "colab": {
      "name": "overview.ipynb",
      "provenance": [],
      "authorship_tag": "ABX9TyNF1Ja//uh/t9gmNmZXLBrd",
      "include_colab_link": true
    },
    "kernelspec": {
      "name": "python3",
      "display_name": "Python 3"
    }
  },
  "cells": [
    {
      "cell_type": "markdown",
      "metadata": {
        "id": "view-in-github",
        "colab_type": "text"
      },
      "source": [
        "<a href=\"https://colab.research.google.com/github/andssuu/moncattle/blob/master/visualization/notebooks/overview.ipynb\" target=\"_parent\"><img src=\"https://colab.research.google.com/assets/colab-badge.svg\" alt=\"Open In Colab\"/></a>"
      ]
    },
    {
      "cell_type": "markdown",
      "metadata": {
        "id": "x7pVNbwlOLEW"
      },
      "source": [
        "## Dados dos experimentos\n",
        "\n",
        "* 2 períodos: primeiro de 25/03/15 a 30/03/15 e de 06/04/15 a 09/04/15\n",
        "* 4 animais (3 distintos)\n",
        "* Foram utilizadas 4 coleiras (A, B, C e D). Entretanto, houve algumas falhas durante o experimento e, no final, ficaram as seguintes bases:\n",
        "  - A2 e A3\n",
        "  - B2 e B3\n",
        "  - C3 e C4\n",
        "  - D1, D2, D3 e D4\n",
        "\n",
        "## Base de Dados\n",
        "\n",
        "O arquivo embrapa.csv contém todos os dados aglutinados que foram utilizados. A estrutura de cabeçalho é definida da seguinte forma:\n",
        "\n",
        "IdColar | AccX | AccY | AccZ | MagX | MagY | MagZ | GirX | GirY | GirZ | Horario | Data | VelocidadeDeslocamento | Comportamento \n",
        " --- | --- | --- |--- |--- |--- |--- |--- |--- |--- |--- |---|---|---\n",
        "A2 | -11889 | 11184 | -17877 | -1280 | -73 | -309 | -4013 | 1260 | -31 | 131911.203 | 250515 | 000.0 | Comendo/Procurando\n",
        "A2 | -9144 | 8945 | -11799 | -1213 | 707 | -238 | -394 | 2278 | -602 | 131949.203 | 250515 | 000.0 | Comendo/Procurando\n",
        "A2 | 6391 | 9265 | -11767 | 570 | -405 | -1533 | -1072 | -1094 | 1854 | 132148.203 | 250515 | 000.0 | EmPe\n",
        "A2 | -1394 | 10206 | -13229 | 671 | -73 | -1590 | 287 | 2253 | -2760 | 132151.203 | 250515 | 000.0 | Comendo/Procurando\n",
        "...| ... | ... | ... | ... | ... | ... | ... | ... | ... | ... | ... | ... | ... \n",
        "D4 | 2152 | 7619 | -7736 | -1650 | 788 | 43 | -2980 | 3678 | -1357 | 122529.111 | 040715 | 000.0 | Comendo/Procurando\n",
        "\n",
        "\n",
        "No total há 13088 amostras. A tabela a seguir mostra a segmentação das amostras por coleira\n",
        "\n",
        "A2 | A3 | B2 | B3 | C3 | C4 | D1 | D2 | D3 | D4 | Total\n",
        "--- | --- | --- |--- |--- |--- |--- |--- |--- |--- |--- | \n",
        "1112 | 2033 | 1131 | 1735 | 1852 | 406 | 1126 | 1690 | 1598 | 405 | 13088\n",
        "\n",
        "\n",
        "\n",
        "## Visualização dos dados\n",
        "\n",
        "* ### [Acelerômetro](https://colab.research.google.com/github/andssuu/moncattle/blob/master/visualization/notebooks/accelerometer.ipynb)\n",
        "\n",
        "* ### [Giroscópio](https://colab.research.google.com/github/andssuu/moncattle/blob/master/visualization/notebooks/gyroscope.ipynb)\n",
        "\n",
        "* ### [Magnetômetro](https://colab.research.google.com/github/andssuu/moncattle/blob/master/visualization/notebooks/magnetometer.ipynb)\n",
        "\n",
        "## Comparações Weka\n",
        "\n",
        "O autor utilizou a ferramenta WEKA para avaliar os modelos. A tabela abaixo contém os dados dos classificadores que obtiveram as melhores acurácias. A última coluna representa as novas acurácias que foram obtidas.\n",
        "\n",
        "Categoria | Algoritmo | Acurácia (%) | Acurácia² (%) \n",
        "--- | --- | --- | ---\n",
        "trees | Random Forest | 93.9868 | 94.1397\n",
        "meta | Rotation Forest | 93.7576 | 93.6889\n",
        "meta | Random Committee | 93.4749 | 93.4597\n",
        "meta | END | 93,0012 | ---\n",
        "meta | Bagging | 92,7338 | 92.6956\n",
        "meta | Decorate | 92,4587 | 92.5733\n",
        "lazy | IB1 | 91,8627 | 91.8628\n",
        "lazy | IBk | 91,8627 | 91.8628\n",
        "trees | J48 graft | 91,4349 | 91.03\n",
        "meta | Classification Via Regression | 91,4043 | 91.4043\n",
        "\n",
        "## Algoritmos\n",
        "\n",
        "* ### SOM\n",
        "\n",
        "* ### MLP\n",
        "\n",
        "* ### RBF\n",
        "\n",
        "* ### K-Means\n",
        "\n",
        "\n",
        "## Links\n",
        "\n",
        "[Dissertação Luiz Lomba](https://repositorio.ufms.br/jspui/bitstream/123456789/2627/1/LUIZ%20FERNANDO%20DELBONI%20LOMBA.pdf)\n"
      ]
    }
  ]
}