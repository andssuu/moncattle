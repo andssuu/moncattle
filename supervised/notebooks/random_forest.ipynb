{
  "nbformat": 4,
  "nbformat_minor": 0,
  "metadata": {
    "colab": {
      "name": "Untitled3.ipynb",
      "provenance": [],
      "collapsed_sections": [],
      "authorship_tag": "ABX9TyOk/25LKMsOLcyFV5JLPMZa",
      "include_colab_link": true
    },
    "kernelspec": {
      "name": "python3",
      "display_name": "Python 3"
    }
  },
  "cells": [
    {
      "cell_type": "markdown",
      "metadata": {
        "id": "view-in-github",
        "colab_type": "text"
      },
      "source": [
        "<a href=\"https://colab.research.google.com/github/andssuu/moncattle/blob/master/supervised/notebooks/random_forest.ipynb\" target=\"_parent\"><img src=\"https://colab.research.google.com/assets/colab-badge.svg\" alt=\"Open In Colab\"/></a>"
      ]
    },
    {
      "cell_type": "code",
      "metadata": {
        "colab": {
          "base_uri": "https://localhost:8080/"
        },
        "id": "b1AVGRdq28Nz",
        "outputId": "6f7062da-b87d-4b1f-e50b-dd5ac7220dc3"
      },
      "source": [
        "!git clone https://github.com/andssuu/moncattle.git"
      ],
      "execution_count": 1,
      "outputs": [
        {
          "output_type": "stream",
          "text": [
            "Cloning into 'moncattle'...\n",
            "remote: Enumerating objects: 308, done.\u001b[K\n",
            "remote: Counting objects: 100% (308/308), done.\u001b[K\n",
            "remote: Compressing objects: 100% (232/232), done.\u001b[K\n",
            "remote: Total 308 (delta 145), reused 129 (delta 54), pack-reused 0\u001b[K\n",
            "Receiving objects: 100% (308/308), 3.18 MiB | 13.31 MiB/s, done.\n",
            "Resolving deltas: 100% (145/145), done.\n"
          ],
          "name": "stdout"
        }
      ]
    },
    {
      "cell_type": "markdown",
      "metadata": {
        "id": "na4lWC-L8keu"
      },
      "source": [
        "# Importação das bibliotecas"
      ]
    },
    {
      "cell_type": "code",
      "metadata": {
        "id": "zkgnnnXg3RAV"
      },
      "source": [
        "import numpy as np\n",
        "import pandas as pd\n",
        "from sklearn import preprocessing\n",
        "from sklearn.model_selection import cross_val_score, StratifiedKFold\n",
        "from sklearn.ensemble import RandomForestClassifier, GradientBoostingClassifier"
      ],
      "execution_count": 2,
      "outputs": []
    },
    {
      "cell_type": "markdown",
      "metadata": {
        "id": "asgydG6T8pmt"
      },
      "source": [
        "# Leitura da base de dados"
      ]
    },
    {
      "cell_type": "code",
      "metadata": {
        "colab": {
          "base_uri": "https://localhost:8080/",
          "height": 204
        },
        "id": "E9MRDqKB3ere",
        "outputId": "ab4a1525-2a0f-4c2b-8ba4-dc7af4aef790"
      },
      "source": [
        "df = pd.read_csv('moncattle/data/lomba.csv')\n",
        "data = df[df.columns[1:10]]\n",
        "data_normalized = (data - data.min()) / (data.max() - data.min())\n",
        "labels = df[df.columns[-1]]\n",
        "#le = preprocessing.LabelEncoder()\n",
        "#le.fit(labels.values)\n",
        "#labels = le.transform(labels.values)\n",
        "data.head()"
      ],
      "execution_count": 53,
      "outputs": [
        {
          "output_type": "execute_result",
          "data": {
            "text/html": [
              "<div>\n",
              "<style scoped>\n",
              "    .dataframe tbody tr th:only-of-type {\n",
              "        vertical-align: middle;\n",
              "    }\n",
              "\n",
              "    .dataframe tbody tr th {\n",
              "        vertical-align: top;\n",
              "    }\n",
              "\n",
              "    .dataframe thead th {\n",
              "        text-align: right;\n",
              "    }\n",
              "</style>\n",
              "<table border=\"1\" class=\"dataframe\">\n",
              "  <thead>\n",
              "    <tr style=\"text-align: right;\">\n",
              "      <th></th>\n",
              "      <th>acc_x</th>\n",
              "      <th>acc_y</th>\n",
              "      <th>acc_z</th>\n",
              "      <th>mag_x</th>\n",
              "      <th>mag_y</th>\n",
              "      <th>mag_z</th>\n",
              "      <th>giro_x</th>\n",
              "      <th>giro_y</th>\n",
              "      <th>giro_z</th>\n",
              "    </tr>\n",
              "  </thead>\n",
              "  <tbody>\n",
              "    <tr>\n",
              "      <th>0</th>\n",
              "      <td>-11889</td>\n",
              "      <td>11184</td>\n",
              "      <td>-17877</td>\n",
              "      <td>-1280</td>\n",
              "      <td>-73</td>\n",
              "      <td>-309</td>\n",
              "      <td>-4013</td>\n",
              "      <td>1260</td>\n",
              "      <td>-31</td>\n",
              "    </tr>\n",
              "    <tr>\n",
              "      <th>1</th>\n",
              "      <td>-9144</td>\n",
              "      <td>8945</td>\n",
              "      <td>-11799</td>\n",
              "      <td>-1213</td>\n",
              "      <td>707</td>\n",
              "      <td>-238</td>\n",
              "      <td>-394</td>\n",
              "      <td>2278</td>\n",
              "      <td>-602</td>\n",
              "    </tr>\n",
              "    <tr>\n",
              "      <th>2</th>\n",
              "      <td>6391</td>\n",
              "      <td>9265</td>\n",
              "      <td>-11767</td>\n",
              "      <td>570</td>\n",
              "      <td>-405</td>\n",
              "      <td>-1533</td>\n",
              "      <td>-1072</td>\n",
              "      <td>-1094</td>\n",
              "      <td>1854</td>\n",
              "    </tr>\n",
              "    <tr>\n",
              "      <th>3</th>\n",
              "      <td>-1394</td>\n",
              "      <td>10206</td>\n",
              "      <td>-13229</td>\n",
              "      <td>671</td>\n",
              "      <td>-73</td>\n",
              "      <td>-1590</td>\n",
              "      <td>287</td>\n",
              "      <td>2253</td>\n",
              "      <td>-2760</td>\n",
              "    </tr>\n",
              "    <tr>\n",
              "      <th>4</th>\n",
              "      <td>-4864</td>\n",
              "      <td>5953</td>\n",
              "      <td>-10472</td>\n",
              "      <td>-84</td>\n",
              "      <td>-200</td>\n",
              "      <td>-1767</td>\n",
              "      <td>-7101</td>\n",
              "      <td>9206</td>\n",
              "      <td>-3595</td>\n",
              "    </tr>\n",
              "  </tbody>\n",
              "</table>\n",
              "</div>"
            ],
            "text/plain": [
              "   acc_x  acc_y  acc_z  mag_x  mag_y  mag_z  giro_x  giro_y  giro_z\n",
              "0 -11889  11184 -17877  -1280    -73   -309   -4013    1260     -31\n",
              "1  -9144   8945 -11799  -1213    707   -238    -394    2278    -602\n",
              "2   6391   9265 -11767    570   -405  -1533   -1072   -1094    1854\n",
              "3  -1394  10206 -13229    671    -73  -1590     287    2253   -2760\n",
              "4  -4864   5953 -10472    -84   -200  -1767   -7101    9206   -3595"
            ]
          },
          "metadata": {
            "tags": []
          },
          "execution_count": 53
        }
      ]
    },
    {
      "cell_type": "code",
      "metadata": {
        "id": "V9RtxhUwFUH_",
        "outputId": "4d0c64d1-01e6-4f35-98a3-074f331c6a2a",
        "colab": {
          "base_uri": "https://localhost:8080/"
        }
      },
      "source": [
        "labels.head()"
      ],
      "execution_count": 54,
      "outputs": [
        {
          "output_type": "execute_result",
          "data": {
            "text/plain": [
              "0    Pastando\n",
              "1    Pastando\n",
              "2        EmPe\n",
              "3    Pastando\n",
              "4    Pastando\n",
              "Name: comportamento, dtype: object"
            ]
          },
          "metadata": {
            "tags": []
          },
          "execution_count": 54
        }
      ]
    },
    {
      "cell_type": "markdown",
      "metadata": {
        "id": "uHx8mqA284S2"
      },
      "source": [
        "# Random Forest (Gini)"
      ]
    },
    {
      "cell_type": "code",
      "metadata": {
        "colab": {
          "base_uri": "https://localhost:8080/"
        },
        "id": "J8kQoOLo34dr",
        "outputId": "925ff729-3bee-482b-f4f9-013fc8858bfc"
      },
      "source": [
        "# sem padronização\n",
        "clf = RandomForestClassifier()\n",
        "scores = cross_val_score(clf, data, labels, cv=10)\n",
        "[print(\"{}-Fold: {:.2f}\".format(k, score)) for k, score in enumerate(scores, 1)]\n",
        "mean = np.mean(scores)\n",
        "std = np.std(scores)\n",
        "print(\"\\tAcurácia média: {:.4f}\".format(mean))\n",
        "print(\"\\tDesvio Padrão: {:}\".format(std))"
      ],
      "execution_count": 55,
      "outputs": [
        {
          "output_type": "stream",
          "text": [
            "1-Fold: 0.78\n",
            "2-Fold: 0.67\n",
            "3-Fold: 0.80\n",
            "4-Fold: 0.86\n",
            "5-Fold: 0.87\n",
            "6-Fold: 0.76\n",
            "7-Fold: 0.87\n",
            "8-Fold: 0.73\n",
            "9-Fold: 0.87\n",
            "10-Fold: 0.81\n",
            "\tAcurácia média: 0.8024\n",
            "\tDesvio Padrão: 0.0648370884715836\n"
          ],
          "name": "stdout"
        }
      ]
    },
    {
      "cell_type": "code",
      "metadata": {
        "colab": {
          "base_uri": "https://localhost:8080/"
        },
        "id": "vK-9lMQE7Zid",
        "outputId": "1237dc85-4b33-412d-d632-7aa49c594e71"
      },
      "source": [
        "# com padronização\n",
        "clf = RandomForestClassifier(n_estimators=100)\n",
        "scores = cross_val_score(clf, data_normalized, labels, cv=10)\n",
        "[print(\"{}-Fold: {:.2f}\".format(k, score)) for k, score in enumerate(scores, 1)]\n",
        "mean = np.mean(scores)\n",
        "std = np.std(scores)\n",
        "print(\"\\tAcurácia média: {:.4f}\".format(mean))\n",
        "print(\"\\tDesvio Padrão: {:}\".format(std))"
      ],
      "execution_count": 58,
      "outputs": [
        {
          "output_type": "stream",
          "text": [
            "1-Fold: 0.77\n",
            "2-Fold: 0.67\n",
            "3-Fold: 0.78\n",
            "4-Fold: 0.86\n",
            "5-Fold: 0.87\n",
            "6-Fold: 0.77\n",
            "7-Fold: 0.88\n",
            "8-Fold: 0.73\n",
            "9-Fold: 0.86\n",
            "10-Fold: 0.79\n",
            "\tAcurácia média: 0.7971\n",
            "\tDesvio Padrão: 0.06494663297071676\n"
          ],
          "name": "stdout"
        }
      ]
    },
    {
      "cell_type": "markdown",
      "metadata": {
        "id": "7-yay-cr-Xla"
      },
      "source": [
        "# Random Forest (Entropy)"
      ]
    },
    {
      "cell_type": "code",
      "metadata": {
        "id": "IvJDr3DD9Kh4",
        "outputId": "25509d50-55ce-4cec-8cd3-826de1738b6c",
        "colab": {
          "base_uri": "https://localhost:8080/"
        }
      },
      "source": [
        "clf = RandomForestClassifier(criterion='entropy')\n",
        "scores = cross_val_score(clf, data, labels, cv=10)\n",
        "[print(\"{}-Fold: {:.2f}\".format(k, score)) for k, score in enumerate(scores, 1)]\n",
        "mean = np.mean(scores)\n",
        "std = np.std(scores)\n",
        "print(\"\\tAcurácia média: {:.4f}\".format(mean))\n",
        "print(\"\\tDesvio Padrão: {:}\".format(std))"
      ],
      "execution_count": 48,
      "outputs": [
        {
          "output_type": "stream",
          "text": [
            "1-Fold: 0.78\n",
            "2-Fold: 0.68\n",
            "3-Fold: 0.78\n",
            "4-Fold: 0.86\n",
            "5-Fold: 0.87\n",
            "6-Fold: 0.76\n",
            "7-Fold: 0.88\n",
            "8-Fold: 0.73\n",
            "9-Fold: 0.87\n",
            "10-Fold: 0.84\n",
            "\tAcurácia média: 0.8056\n",
            "\tDesvio Padrão: 0.06599045996377269\n"
          ],
          "name": "stdout"
        }
      ]
    },
    {
      "cell_type": "code",
      "metadata": {
        "colab": {
          "base_uri": "https://localhost:8080/"
        },
        "id": "eyoCOzTOTiRO",
        "outputId": "4a6d274d-6357-47c0-954a-f23d6fc21f90"
      },
      "source": [
        "clf = RandomForestClassifier(criterion='entropy')\n",
        "scores = cross_val_score(clf, data_normalized, labels, cv=10)\n",
        "[print(\"{}-Fold: {:.2f}\".format(k, score)) for k, score in enumerate(scores, 1)]\n",
        "mean = np.mean(scores)\n",
        "std = np.std(scores)\n",
        "print(\"\\tAcurácia média: {:.4f}\".format(mean))\n",
        "print(\"\\tDesvio Padrão: {:}\".format(std))"
      ],
      "execution_count": null,
      "outputs": [
        {
          "output_type": "stream",
          "text": [
            "1-Fold: 0.77\n",
            "2-Fold: 0.67\n",
            "3-Fold: 0.78\n",
            "4-Fold: 0.86\n",
            "5-Fold: 0.87\n",
            "6-Fold: 0.76\n",
            "7-Fold: 0.88\n",
            "8-Fold: 0.73\n",
            "9-Fold: 0.86\n",
            "10-Fold: 0.82\n",
            "\tAcurácia média: 0.8005\n",
            "\tDesvio Padrão: 0.06480470120707642\n"
          ],
          "name": "stdout"
        }
      ]
    },
    {
      "cell_type": "code",
      "metadata": {
        "colab": {
          "base_uri": "https://localhost:8080/"
        },
        "id": "B-kOYDqGdBgG",
        "outputId": "6f175f5b-70e0-497c-aac5-86aabe4b2b0b"
      },
      "source": [
        "clf = RandomForestClassifier(n_estimators=100, max_features='log2', oob_score=False, n_jobs=-1, verbose=10, random_state=1, min_samples_split=10)\n",
        "scores = cross_val_score(clf, data_normalized, labels, cv=10)\n",
        "[print(\"{}-Fold: {:.2f}\".format(k, score)) for k, score in enumerate(scores, 1)]\n",
        "mean = np.mean(scores)\n",
        "std = np.std(scores)\n",
        "print(\"\\tAcurácia média: {:.4f}\".format(mean))\n",
        "print(\"\\tDesvio Padrão: {:}\".format(std))  "
      ],
      "execution_count": null,
      "outputs": [
        {
          "output_type": "stream",
          "text": [
            "[Parallel(n_jobs=-1)]: Using backend LokyBackend with 2 concurrent workers.\n",
            "[Parallel(n_jobs=-1)]: Done   1 tasks      | elapsed:    0.9s\n",
            "[Parallel(n_jobs=-1)]: Done   4 tasks      | elapsed:    1.0s\n",
            "[Parallel(n_jobs=-1)]: Done   9 tasks      | elapsed:    1.2s\n",
            "[Parallel(n_jobs=-1)]: Done  14 tasks      | elapsed:    1.3s\n",
            "[Parallel(n_jobs=-1)]: Batch computation too fast (0.1901s.) Setting batch_size=2.\n",
            "[Parallel(n_jobs=-1)]: Batch computation too fast (0.1743s.) Setting batch_size=4.\n",
            "[Parallel(n_jobs=-1)]: Done  24 tasks      | elapsed:    1.7s\n",
            "[Parallel(n_jobs=-1)]: Done  50 tasks      | elapsed:    2.4s\n",
            "[Parallel(n_jobs=-1)]: Done  86 tasks      | elapsed:    3.5s\n",
            "[Parallel(n_jobs=-1)]: Done 100 out of 100 | elapsed:    3.7s finished\n",
            "[Parallel(n_jobs=2)]: Using backend ThreadingBackend with 2 concurrent workers.\n",
            "[Parallel(n_jobs=2)]: Done   1 tasks      | elapsed:    0.0s\n",
            "[Parallel(n_jobs=2)]: Done   4 tasks      | elapsed:    0.0s\n",
            "[Parallel(n_jobs=2)]: Done   9 tasks      | elapsed:    0.0s\n",
            "[Parallel(n_jobs=2)]: Done  14 tasks      | elapsed:    0.0s\n",
            "[Parallel(n_jobs=2)]: Done  21 tasks      | elapsed:    0.0s\n",
            "[Parallel(n_jobs=2)]: Done  28 tasks      | elapsed:    0.0s\n",
            "[Parallel(n_jobs=2)]: Done  37 tasks      | elapsed:    0.0s\n",
            "[Parallel(n_jobs=2)]: Done  46 tasks      | elapsed:    0.0s\n",
            "[Parallel(n_jobs=2)]: Done  57 tasks      | elapsed:    0.0s\n",
            "[Parallel(n_jobs=2)]: Done  68 tasks      | elapsed:    0.0s\n",
            "[Parallel(n_jobs=2)]: Done  81 tasks      | elapsed:    0.0s\n",
            "[Parallel(n_jobs=2)]: Done  94 tasks      | elapsed:    0.0s\n",
            "[Parallel(n_jobs=2)]: Done 100 out of 100 | elapsed:    0.1s finished\n",
            "[Parallel(n_jobs=-1)]: Using backend LokyBackend with 2 concurrent workers.\n"
          ],
          "name": "stderr"
        },
        {
          "output_type": "stream",
          "text": [
            "Using ThreadingBackend as joblib.Parallel backend instead of LokyBackend as the latter does not provide shared memory semantics.\n"
          ],
          "name": "stdout"
        },
        {
          "output_type": "stream",
          "text": [
            "[Parallel(n_jobs=-1)]: Done   1 tasks      | elapsed:    0.1s\n",
            "[Parallel(n_jobs=-1)]: Batch computation too fast (0.0617s.) Setting batch_size=2.\n",
            "[Parallel(n_jobs=-1)]: Done   4 tasks      | elapsed:    0.1s\n",
            "[Parallel(n_jobs=-1)]: Batch computation too fast (0.1687s.) Setting batch_size=4.\n",
            "[Parallel(n_jobs=-1)]: Done  16 tasks      | elapsed:    0.6s\n",
            "[Parallel(n_jobs=-1)]: Done  36 tasks      | elapsed:    1.0s\n",
            "[Parallel(n_jobs=-1)]: Done  64 tasks      | elapsed:    1.9s\n",
            "[Parallel(n_jobs=-1)]: Done 100 out of 100 | elapsed:    2.8s finished\n",
            "[Parallel(n_jobs=2)]: Using backend ThreadingBackend with 2 concurrent workers.\n",
            "[Parallel(n_jobs=2)]: Done   1 tasks      | elapsed:    0.0s\n",
            "[Parallel(n_jobs=2)]: Done   4 tasks      | elapsed:    0.0s\n",
            "[Parallel(n_jobs=2)]: Done   9 tasks      | elapsed:    0.0s\n",
            "[Parallel(n_jobs=2)]: Done  14 tasks      | elapsed:    0.0s\n",
            "[Parallel(n_jobs=2)]: Done  21 tasks      | elapsed:    0.0s\n",
            "[Parallel(n_jobs=2)]: Done  28 tasks      | elapsed:    0.0s\n",
            "[Parallel(n_jobs=2)]: Done  37 tasks      | elapsed:    0.0s\n",
            "[Parallel(n_jobs=2)]: Done  46 tasks      | elapsed:    0.0s\n",
            "[Parallel(n_jobs=2)]: Done  57 tasks      | elapsed:    0.0s\n",
            "[Parallel(n_jobs=2)]: Done  68 tasks      | elapsed:    0.0s\n",
            "[Parallel(n_jobs=2)]: Done  81 tasks      | elapsed:    0.0s\n",
            "[Parallel(n_jobs=2)]: Done  94 tasks      | elapsed:    0.0s\n",
            "[Parallel(n_jobs=2)]: Done 100 out of 100 | elapsed:    0.0s finished\n",
            "[Parallel(n_jobs=-1)]: Using backend LokyBackend with 2 concurrent workers.\n"
          ],
          "name": "stderr"
        },
        {
          "output_type": "stream",
          "text": [
            "Using ThreadingBackend as joblib.Parallel backend instead of LokyBackend as the latter does not provide shared memory semantics.\n"
          ],
          "name": "stdout"
        },
        {
          "output_type": "stream",
          "text": [
            "[Parallel(n_jobs=-1)]: Done   1 tasks      | elapsed:    0.1s\n",
            "[Parallel(n_jobs=-1)]: Batch computation too fast (0.0706s.) Setting batch_size=2.\n",
            "[Parallel(n_jobs=-1)]: Done   4 tasks      | elapsed:    0.1s\n",
            "[Parallel(n_jobs=-1)]: Batch computation too fast (0.1738s.) Setting batch_size=4.\n",
            "[Parallel(n_jobs=-1)]: Done  16 tasks      | elapsed:    0.6s\n",
            "[Parallel(n_jobs=-1)]: Done  36 tasks      | elapsed:    1.1s\n",
            "[Parallel(n_jobs=-1)]: Done  64 tasks      | elapsed:    1.9s\n",
            "[Parallel(n_jobs=-1)]: Done 100 out of 100 | elapsed:    2.8s finished\n",
            "[Parallel(n_jobs=2)]: Using backend ThreadingBackend with 2 concurrent workers.\n",
            "[Parallel(n_jobs=2)]: Done   1 tasks      | elapsed:    0.0s\n",
            "[Parallel(n_jobs=2)]: Done   4 tasks      | elapsed:    0.0s\n",
            "[Parallel(n_jobs=2)]: Done   9 tasks      | elapsed:    0.0s\n",
            "[Parallel(n_jobs=2)]: Done  14 tasks      | elapsed:    0.0s\n",
            "[Parallel(n_jobs=2)]: Done  21 tasks      | elapsed:    0.0s\n",
            "[Parallel(n_jobs=2)]: Done  28 tasks      | elapsed:    0.0s\n",
            "[Parallel(n_jobs=2)]: Done  37 tasks      | elapsed:    0.0s\n",
            "[Parallel(n_jobs=2)]: Done  46 tasks      | elapsed:    0.0s\n",
            "[Parallel(n_jobs=2)]: Done  57 tasks      | elapsed:    0.0s\n",
            "[Parallel(n_jobs=2)]: Done  68 tasks      | elapsed:    0.0s\n",
            "[Parallel(n_jobs=2)]: Done  81 tasks      | elapsed:    0.0s\n",
            "[Parallel(n_jobs=2)]: Done  94 tasks      | elapsed:    0.0s\n",
            "[Parallel(n_jobs=2)]: Done 100 out of 100 | elapsed:    0.0s finished\n",
            "[Parallel(n_jobs=-1)]: Using backend LokyBackend with 2 concurrent workers.\n"
          ],
          "name": "stderr"
        },
        {
          "output_type": "stream",
          "text": [
            "Using ThreadingBackend as joblib.Parallel backend instead of LokyBackend as the latter does not provide shared memory semantics.\n"
          ],
          "name": "stdout"
        },
        {
          "output_type": "stream",
          "text": [
            "[Parallel(n_jobs=-1)]: Done   1 tasks      | elapsed:    0.1s\n",
            "[Parallel(n_jobs=-1)]: Batch computation too fast (0.0648s.) Setting batch_size=2.\n",
            "[Parallel(n_jobs=-1)]: Done   4 tasks      | elapsed:    0.2s\n",
            "[Parallel(n_jobs=-1)]: Batch computation too fast (0.1819s.) Setting batch_size=4.\n",
            "[Parallel(n_jobs=-1)]: Done  16 tasks      | elapsed:    0.6s\n",
            "[Parallel(n_jobs=-1)]: Done  36 tasks      | elapsed:    1.1s\n",
            "[Parallel(n_jobs=-1)]: Done  64 tasks      | elapsed:    2.0s\n",
            "[Parallel(n_jobs=-1)]: Done 100 out of 100 | elapsed:    2.9s finished\n",
            "[Parallel(n_jobs=2)]: Using backend ThreadingBackend with 2 concurrent workers.\n",
            "[Parallel(n_jobs=2)]: Done   1 tasks      | elapsed:    0.0s\n",
            "[Parallel(n_jobs=2)]: Done   4 tasks      | elapsed:    0.0s\n",
            "[Parallel(n_jobs=2)]: Done   9 tasks      | elapsed:    0.0s\n",
            "[Parallel(n_jobs=2)]: Done  14 tasks      | elapsed:    0.0s\n",
            "[Parallel(n_jobs=2)]: Done  21 tasks      | elapsed:    0.0s\n",
            "[Parallel(n_jobs=2)]: Done  28 tasks      | elapsed:    0.0s\n",
            "[Parallel(n_jobs=2)]: Done  37 tasks      | elapsed:    0.0s\n",
            "[Parallel(n_jobs=2)]: Done  46 tasks      | elapsed:    0.0s\n",
            "[Parallel(n_jobs=2)]: Done  57 tasks      | elapsed:    0.0s\n",
            "[Parallel(n_jobs=2)]: Done  68 tasks      | elapsed:    0.0s\n",
            "[Parallel(n_jobs=2)]: Done  81 tasks      | elapsed:    0.0s\n",
            "[Parallel(n_jobs=2)]: Done  94 tasks      | elapsed:    0.0s\n",
            "[Parallel(n_jobs=2)]: Done 100 out of 100 | elapsed:    0.0s finished\n",
            "[Parallel(n_jobs=-1)]: Using backend LokyBackend with 2 concurrent workers.\n"
          ],
          "name": "stderr"
        },
        {
          "output_type": "stream",
          "text": [
            "Using ThreadingBackend as joblib.Parallel backend instead of LokyBackend as the latter does not provide shared memory semantics.\n"
          ],
          "name": "stdout"
        },
        {
          "output_type": "stream",
          "text": [
            "[Parallel(n_jobs=-1)]: Done   1 tasks      | elapsed:    0.1s\n",
            "[Parallel(n_jobs=-1)]: Batch computation too fast (0.0651s.) Setting batch_size=2.\n",
            "[Parallel(n_jobs=-1)]: Done   4 tasks      | elapsed:    0.1s\n",
            "[Parallel(n_jobs=-1)]: Batch computation too fast (0.1840s.) Setting batch_size=4.\n",
            "[Parallel(n_jobs=-1)]: Done  16 tasks      | elapsed:    0.6s\n",
            "[Parallel(n_jobs=-1)]: Done  36 tasks      | elapsed:    1.1s\n",
            "[Parallel(n_jobs=-1)]: Done  64 tasks      | elapsed:    1.9s\n",
            "[Parallel(n_jobs=-1)]: Done 100 out of 100 | elapsed:    2.8s finished\n",
            "[Parallel(n_jobs=2)]: Using backend ThreadingBackend with 2 concurrent workers.\n",
            "[Parallel(n_jobs=2)]: Done   1 tasks      | elapsed:    0.0s\n",
            "[Parallel(n_jobs=2)]: Done   4 tasks      | elapsed:    0.0s\n",
            "[Parallel(n_jobs=2)]: Done   9 tasks      | elapsed:    0.0s\n",
            "[Parallel(n_jobs=2)]: Done  14 tasks      | elapsed:    0.0s\n",
            "[Parallel(n_jobs=2)]: Done  21 tasks      | elapsed:    0.0s\n",
            "[Parallel(n_jobs=2)]: Done  28 tasks      | elapsed:    0.0s\n",
            "[Parallel(n_jobs=2)]: Done  37 tasks      | elapsed:    0.0s\n",
            "[Parallel(n_jobs=2)]: Done  46 tasks      | elapsed:    0.0s\n",
            "[Parallel(n_jobs=2)]: Done  57 tasks      | elapsed:    0.0s\n",
            "[Parallel(n_jobs=2)]: Done  68 tasks      | elapsed:    0.0s\n",
            "[Parallel(n_jobs=2)]: Done  81 tasks      | elapsed:    0.0s\n",
            "[Parallel(n_jobs=2)]: Done  94 tasks      | elapsed:    0.0s\n",
            "[Parallel(n_jobs=2)]: Done 100 out of 100 | elapsed:    0.0s finished\n",
            "[Parallel(n_jobs=-1)]: Using backend LokyBackend with 2 concurrent workers.\n"
          ],
          "name": "stderr"
        },
        {
          "output_type": "stream",
          "text": [
            "Using ThreadingBackend as joblib.Parallel backend instead of LokyBackend as the latter does not provide shared memory semantics.\n"
          ],
          "name": "stdout"
        },
        {
          "output_type": "stream",
          "text": [
            "[Parallel(n_jobs=-1)]: Done   1 tasks      | elapsed:    0.1s\n",
            "[Parallel(n_jobs=-1)]: Batch computation too fast (0.0891s.) Setting batch_size=2.\n",
            "[Parallel(n_jobs=-1)]: Done   4 tasks      | elapsed:    0.2s\n",
            "[Parallel(n_jobs=-1)]: Batch computation too fast (0.1874s.) Setting batch_size=4.\n",
            "[Parallel(n_jobs=-1)]: Done  16 tasks      | elapsed:    0.6s\n",
            "[Parallel(n_jobs=-1)]: Done  36 tasks      | elapsed:    1.1s\n",
            "[Parallel(n_jobs=-1)]: Done  64 tasks      | elapsed:    2.0s\n",
            "[Parallel(n_jobs=-1)]: Done 100 out of 100 | elapsed:    3.0s finished\n",
            "[Parallel(n_jobs=2)]: Using backend ThreadingBackend with 2 concurrent workers.\n",
            "[Parallel(n_jobs=2)]: Done   1 tasks      | elapsed:    0.0s\n",
            "[Parallel(n_jobs=2)]: Done   4 tasks      | elapsed:    0.0s\n",
            "[Parallel(n_jobs=2)]: Done   9 tasks      | elapsed:    0.0s\n",
            "[Parallel(n_jobs=2)]: Done  14 tasks      | elapsed:    0.0s\n",
            "[Parallel(n_jobs=2)]: Done  21 tasks      | elapsed:    0.0s\n",
            "[Parallel(n_jobs=2)]: Done  28 tasks      | elapsed:    0.0s\n",
            "[Parallel(n_jobs=2)]: Done  37 tasks      | elapsed:    0.0s\n",
            "[Parallel(n_jobs=2)]: Done  46 tasks      | elapsed:    0.0s\n",
            "[Parallel(n_jobs=2)]: Done  57 tasks      | elapsed:    0.0s\n",
            "[Parallel(n_jobs=2)]: Done  68 tasks      | elapsed:    0.0s\n",
            "[Parallel(n_jobs=2)]: Done  81 tasks      | elapsed:    0.0s\n",
            "[Parallel(n_jobs=2)]: Done  94 tasks      | elapsed:    0.1s\n",
            "[Parallel(n_jobs=2)]: Done 100 out of 100 | elapsed:    0.1s finished\n",
            "[Parallel(n_jobs=-1)]: Using backend LokyBackend with 2 concurrent workers.\n"
          ],
          "name": "stderr"
        },
        {
          "output_type": "stream",
          "text": [
            "Using ThreadingBackend as joblib.Parallel backend instead of LokyBackend as the latter does not provide shared memory semantics.\n"
          ],
          "name": "stdout"
        },
        {
          "output_type": "stream",
          "text": [
            "[Parallel(n_jobs=-1)]: Done   1 tasks      | elapsed:    0.1s\n",
            "[Parallel(n_jobs=-1)]: Batch computation too fast (0.0699s.) Setting batch_size=2.\n",
            "[Parallel(n_jobs=-1)]: Done   4 tasks      | elapsed:    0.1s\n",
            "[Parallel(n_jobs=-1)]: Batch computation too fast (0.1830s.) Setting batch_size=4.\n",
            "[Parallel(n_jobs=-1)]: Done  16 tasks      | elapsed:    0.6s\n",
            "[Parallel(n_jobs=-1)]: Done  36 tasks      | elapsed:    1.1s\n",
            "[Parallel(n_jobs=-1)]: Done  64 tasks      | elapsed:    1.9s\n",
            "[Parallel(n_jobs=-1)]: Done 100 out of 100 | elapsed:    3.0s finished\n",
            "[Parallel(n_jobs=2)]: Using backend ThreadingBackend with 2 concurrent workers.\n",
            "[Parallel(n_jobs=2)]: Done   1 tasks      | elapsed:    0.0s\n",
            "[Parallel(n_jobs=2)]: Done   4 tasks      | elapsed:    0.0s\n",
            "[Parallel(n_jobs=2)]: Done   9 tasks      | elapsed:    0.0s\n",
            "[Parallel(n_jobs=2)]: Done  14 tasks      | elapsed:    0.0s\n",
            "[Parallel(n_jobs=2)]: Done  21 tasks      | elapsed:    0.0s\n",
            "[Parallel(n_jobs=2)]: Done  28 tasks      | elapsed:    0.0s\n",
            "[Parallel(n_jobs=2)]: Done  37 tasks      | elapsed:    0.0s\n",
            "[Parallel(n_jobs=2)]: Done  46 tasks      | elapsed:    0.0s\n",
            "[Parallel(n_jobs=2)]: Done  57 tasks      | elapsed:    0.0s\n",
            "[Parallel(n_jobs=2)]: Done  68 tasks      | elapsed:    0.0s\n",
            "[Parallel(n_jobs=2)]: Done  81 tasks      | elapsed:    0.0s\n",
            "[Parallel(n_jobs=2)]: Done  94 tasks      | elapsed:    0.0s\n",
            "[Parallel(n_jobs=2)]: Done 100 out of 100 | elapsed:    0.0s finished\n",
            "[Parallel(n_jobs=-1)]: Using backend LokyBackend with 2 concurrent workers.\n"
          ],
          "name": "stderr"
        },
        {
          "output_type": "stream",
          "text": [
            "Using ThreadingBackend as joblib.Parallel backend instead of LokyBackend as the latter does not provide shared memory semantics.\n"
          ],
          "name": "stdout"
        },
        {
          "output_type": "stream",
          "text": [
            "[Parallel(n_jobs=-1)]: Done   1 tasks      | elapsed:    0.1s\n",
            "[Parallel(n_jobs=-1)]: Batch computation too fast (0.0638s.) Setting batch_size=2.\n",
            "[Parallel(n_jobs=-1)]: Done   4 tasks      | elapsed:    0.1s\n",
            "[Parallel(n_jobs=-1)]: Batch computation too fast (0.1678s.) Setting batch_size=4.\n",
            "[Parallel(n_jobs=-1)]: Done  16 tasks      | elapsed:    0.6s\n",
            "[Parallel(n_jobs=-1)]: Done  36 tasks      | elapsed:    1.0s\n",
            "[Parallel(n_jobs=-1)]: Done  64 tasks      | elapsed:    1.9s\n",
            "[Parallel(n_jobs=-1)]: Done 100 out of 100 | elapsed:    2.8s finished\n",
            "[Parallel(n_jobs=2)]: Using backend ThreadingBackend with 2 concurrent workers.\n",
            "[Parallel(n_jobs=2)]: Done   1 tasks      | elapsed:    0.0s\n",
            "[Parallel(n_jobs=2)]: Done   4 tasks      | elapsed:    0.0s\n",
            "[Parallel(n_jobs=2)]: Done   9 tasks      | elapsed:    0.0s\n",
            "[Parallel(n_jobs=2)]: Done  14 tasks      | elapsed:    0.0s\n",
            "[Parallel(n_jobs=2)]: Done  21 tasks      | elapsed:    0.0s\n",
            "[Parallel(n_jobs=2)]: Done  28 tasks      | elapsed:    0.0s\n",
            "[Parallel(n_jobs=2)]: Done  37 tasks      | elapsed:    0.0s\n",
            "[Parallel(n_jobs=2)]: Done  46 tasks      | elapsed:    0.0s\n",
            "[Parallel(n_jobs=2)]: Done  57 tasks      | elapsed:    0.0s\n",
            "[Parallel(n_jobs=2)]: Done  68 tasks      | elapsed:    0.0s\n",
            "[Parallel(n_jobs=2)]: Done  81 tasks      | elapsed:    0.0s\n",
            "[Parallel(n_jobs=2)]: Done  94 tasks      | elapsed:    0.0s\n",
            "[Parallel(n_jobs=2)]: Done 100 out of 100 | elapsed:    0.1s finished\n",
            "[Parallel(n_jobs=-1)]: Using backend LokyBackend with 2 concurrent workers.\n"
          ],
          "name": "stderr"
        },
        {
          "output_type": "stream",
          "text": [
            "Using ThreadingBackend as joblib.Parallel backend instead of LokyBackend as the latter does not provide shared memory semantics.\n"
          ],
          "name": "stdout"
        },
        {
          "output_type": "stream",
          "text": [
            "[Parallel(n_jobs=-1)]: Done   1 tasks      | elapsed:    0.1s\n",
            "[Parallel(n_jobs=-1)]: Batch computation too fast (0.0649s.) Setting batch_size=2.\n",
            "[Parallel(n_jobs=-1)]: Done   4 tasks      | elapsed:    0.1s\n",
            "[Parallel(n_jobs=-1)]: Batch computation too fast (0.1590s.) Setting batch_size=4.\n",
            "[Parallel(n_jobs=-1)]: Done  16 tasks      | elapsed:    0.6s\n",
            "[Parallel(n_jobs=-1)]: Done  36 tasks      | elapsed:    1.0s\n",
            "[Parallel(n_jobs=-1)]: Done  64 tasks      | elapsed:    1.9s\n",
            "[Parallel(n_jobs=-1)]: Done 100 out of 100 | elapsed:    2.8s finished\n",
            "[Parallel(n_jobs=2)]: Using backend ThreadingBackend with 2 concurrent workers.\n",
            "[Parallel(n_jobs=2)]: Done   1 tasks      | elapsed:    0.0s\n",
            "[Parallel(n_jobs=2)]: Done   4 tasks      | elapsed:    0.0s\n",
            "[Parallel(n_jobs=2)]: Done   9 tasks      | elapsed:    0.0s\n",
            "[Parallel(n_jobs=2)]: Done  14 tasks      | elapsed:    0.0s\n",
            "[Parallel(n_jobs=2)]: Done  21 tasks      | elapsed:    0.0s\n",
            "[Parallel(n_jobs=2)]: Done  28 tasks      | elapsed:    0.0s\n",
            "[Parallel(n_jobs=2)]: Done  37 tasks      | elapsed:    0.0s\n",
            "[Parallel(n_jobs=2)]: Done  46 tasks      | elapsed:    0.0s\n",
            "[Parallel(n_jobs=2)]: Done  57 tasks      | elapsed:    0.0s\n",
            "[Parallel(n_jobs=2)]: Done  68 tasks      | elapsed:    0.0s\n",
            "[Parallel(n_jobs=2)]: Done  81 tasks      | elapsed:    0.0s\n",
            "[Parallel(n_jobs=2)]: Done  94 tasks      | elapsed:    0.0s\n",
            "[Parallel(n_jobs=2)]: Done 100 out of 100 | elapsed:    0.0s finished\n",
            "[Parallel(n_jobs=-1)]: Using backend LokyBackend with 2 concurrent workers.\n"
          ],
          "name": "stderr"
        },
        {
          "output_type": "stream",
          "text": [
            "Using ThreadingBackend as joblib.Parallel backend instead of LokyBackend as the latter does not provide shared memory semantics.\n"
          ],
          "name": "stdout"
        },
        {
          "output_type": "stream",
          "text": [
            "[Parallel(n_jobs=-1)]: Done   1 tasks      | elapsed:    0.1s\n",
            "[Parallel(n_jobs=-1)]: Batch computation too fast (0.0692s.) Setting batch_size=2.\n",
            "[Parallel(n_jobs=-1)]: Done   4 tasks      | elapsed:    0.1s\n",
            "[Parallel(n_jobs=-1)]: Batch computation too fast (0.1736s.) Setting batch_size=4.\n",
            "[Parallel(n_jobs=-1)]: Done  16 tasks      | elapsed:    0.6s\n",
            "[Parallel(n_jobs=-1)]: Done  36 tasks      | elapsed:    1.0s\n",
            "[Parallel(n_jobs=-1)]: Done  64 tasks      | elapsed:    1.9s\n"
          ],
          "name": "stderr"
        },
        {
          "output_type": "stream",
          "text": [
            "Using ThreadingBackend as joblib.Parallel backend instead of LokyBackend as the latter does not provide shared memory semantics.\n",
            "1-Fold: 0.78\n",
            "2-Fold: 0.67\n",
            "3-Fold: 0.78\n",
            "4-Fold: 0.85\n",
            "5-Fold: 0.87\n",
            "6-Fold: 0.75\n",
            "7-Fold: 0.88\n",
            "8-Fold: 0.73\n",
            "9-Fold: 0.86\n",
            "10-Fold: 0.79\n",
            "\tAcurácia média: 0.7965\n",
            "\tDesvio Padrão: 0.06482161434419732\n"
          ],
          "name": "stdout"
        },
        {
          "output_type": "stream",
          "text": [
            "[Parallel(n_jobs=-1)]: Done 100 out of 100 | elapsed:    2.8s finished\n",
            "[Parallel(n_jobs=2)]: Using backend ThreadingBackend with 2 concurrent workers.\n",
            "[Parallel(n_jobs=2)]: Done   1 tasks      | elapsed:    0.0s\n",
            "[Parallel(n_jobs=2)]: Done   4 tasks      | elapsed:    0.0s\n",
            "[Parallel(n_jobs=2)]: Done   9 tasks      | elapsed:    0.0s\n",
            "[Parallel(n_jobs=2)]: Done  14 tasks      | elapsed:    0.0s\n",
            "[Parallel(n_jobs=2)]: Done  21 tasks      | elapsed:    0.0s\n",
            "[Parallel(n_jobs=2)]: Done  28 tasks      | elapsed:    0.0s\n",
            "[Parallel(n_jobs=2)]: Done  37 tasks      | elapsed:    0.0s\n",
            "[Parallel(n_jobs=2)]: Done  46 tasks      | elapsed:    0.0s\n",
            "[Parallel(n_jobs=2)]: Done  57 tasks      | elapsed:    0.0s\n",
            "[Parallel(n_jobs=2)]: Done  68 tasks      | elapsed:    0.0s\n",
            "[Parallel(n_jobs=2)]: Done  81 tasks      | elapsed:    0.0s\n",
            "[Parallel(n_jobs=2)]: Done  94 tasks      | elapsed:    0.0s\n",
            "[Parallel(n_jobs=2)]: Done 100 out of 100 | elapsed:    0.0s finished\n"
          ],
          "name": "stderr"
        }
      ]
    },
    {
      "cell_type": "code",
      "metadata": {
        "id": "S3CCnrRa1UNK",
        "outputId": "1dcc008d-4750-40d7-dc77-03a193bbc872",
        "colab": {
          "base_uri": "https://localhost:8080/"
        }
      },
      "source": [
        "#Bagging\n",
        "from sklearn.svm import SVC\n",
        "from sklearn.ensemble import BaggingClassifier\n",
        "from sklearn.datasets import make_classification\n",
        "clf = BaggingClassifier(base_estimator=SVC(),\n",
        "                        n_estimators=10, random_state=0)\n",
        "scores = cross_val_score(clf, data_normalized, labels, cv=10)\n",
        "[print(\"{}-Fold: {:.2f}\".format(k, score)) for k, score in enumerate(scores, 1)]\n",
        "mean = np.mean(scores)\n",
        "std = np.std(scores)\n",
        "print(\"\\tAcurácia média: {:.4f}\".format(mean))\n",
        "print(\"\\tDesvio Padrão: {:}\".format(std))"
      ],
      "execution_count": 6,
      "outputs": [
        {
          "output_type": "stream",
          "text": [
            "1-Fold: 0.77\n",
            "2-Fold: 0.63\n",
            "3-Fold: 0.70\n",
            "4-Fold: 0.79\n",
            "5-Fold: 0.82\n",
            "6-Fold: 0.73\n",
            "7-Fold: 0.85\n",
            "8-Fold: 0.66\n",
            "9-Fold: 0.81\n",
            "10-Fold: 0.76\n",
            "\tAcurácia média: 0.7516\n",
            "\tDesvio Padrão: 0.06946885374653125\n"
          ],
          "name": "stdout"
        }
      ]
    }
  ]
}