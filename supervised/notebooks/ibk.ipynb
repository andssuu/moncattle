{
  "nbformat": 4,
  "nbformat_minor": 0,
  "metadata": {
    "colab": {
      "name": "ibk.ipynb",
      "provenance": [],
      "collapsed_sections": [],
      "authorship_tag": "ABX9TyNNqL/+OP6RgksUmXy1sbh0",
      "include_colab_link": true
    },
    "kernelspec": {
      "name": "python3",
      "display_name": "Python 3"
    }
  },
  "cells": [
    {
      "cell_type": "markdown",
      "metadata": {
        "id": "view-in-github",
        "colab_type": "text"
      },
      "source": [
        "<a href=\"https://colab.research.google.com/github/andssuu/moncattle/blob/master/supervised/notebooks/ibk.ipynb\" target=\"_parent\"><img src=\"https://colab.research.google.com/assets/colab-badge.svg\" alt=\"Open In Colab\"/></a>"
      ]
    },
    {
      "cell_type": "code",
      "metadata": {
        "colab": {
          "base_uri": "https://localhost:8080/"
        },
        "id": "SbmxEU13XCuX",
        "outputId": "55eb0157-6ec7-46f0-b941-39f16cab8b8a"
      },
      "source": [
        "!git clone https://github.com/andssuu/moncattle.git"
      ],
      "execution_count": 2,
      "outputs": [
        {
          "output_type": "stream",
          "text": [
            "Cloning into 'moncattle'...\n",
            "remote: Enumerating objects: 385, done.\u001b[K\n",
            "remote: Counting objects: 100% (385/385), done.\u001b[K\n",
            "remote: Compressing objects: 100% (309/309), done.\u001b[K\n",
            "remote: Total 385 (delta 204), reused 130 (delta 54), pack-reused 0\u001b[K\n",
            "Receiving objects: 100% (385/385), 3.20 MiB | 7.20 MiB/s, done.\n",
            "Resolving deltas: 100% (204/204), done.\n"
          ],
          "name": "stdout"
        }
      ]
    },
    {
      "cell_type": "markdown",
      "metadata": {
        "id": "OUAzASJPXUfg"
      },
      "source": [
        "# Importação das bibliotecas"
      ]
    },
    {
      "cell_type": "code",
      "metadata": {
        "id": "jg5rp4cfXWO3"
      },
      "source": [
        "import numpy as np\n",
        "import pandas as pd\n",
        "from sklearn.model_selection import cross_val_score, StratifiedKFold\n",
        "from sklearn.svm import SVC\n",
        "from sklearn.neighbors import KNeighborsClassifier"
      ],
      "execution_count": 3,
      "outputs": []
    },
    {
      "cell_type": "markdown",
      "metadata": {
        "id": "nEY-7p2JXYRn"
      },
      "source": [
        "# Leitura da base de dados"
      ]
    },
    {
      "cell_type": "code",
      "metadata": {
        "colab": {
          "base_uri": "https://localhost:8080/",
          "height": 204
        },
        "id": "FBfogdODXZ6C",
        "outputId": "16f55309-52b1-4df8-adce-c8e4f833b8ca"
      },
      "source": [
        "df = pd.read_csv('moncattle/data/lomba.csv')\n",
        "data = df[df.columns[1:10]]\n",
        "data_normalized = (data - data.min()) / (data.max() - data.min())\n",
        "#data_normalized = (data-data.mean())/data.std()\n",
        "labels = df[df.columns[-1]]\n",
        "mod_vector = np.sqrt(data.acc_x**2 + data.acc_y**2 + data.acc_z**2)\n",
        "pd.options.mode.chained_assignment = None\n",
        "data[\"mod_vector\"]=mod_vector\n",
        "data.head()"
      ],
      "execution_count": 4,
      "outputs": [
        {
          "output_type": "execute_result",
          "data": {
            "text/html": [
              "<div>\n",
              "<style scoped>\n",
              "    .dataframe tbody tr th:only-of-type {\n",
              "        vertical-align: middle;\n",
              "    }\n",
              "\n",
              "    .dataframe tbody tr th {\n",
              "        vertical-align: top;\n",
              "    }\n",
              "\n",
              "    .dataframe thead th {\n",
              "        text-align: right;\n",
              "    }\n",
              "</style>\n",
              "<table border=\"1\" class=\"dataframe\">\n",
              "  <thead>\n",
              "    <tr style=\"text-align: right;\">\n",
              "      <th></th>\n",
              "      <th>acc_x</th>\n",
              "      <th>acc_y</th>\n",
              "      <th>acc_z</th>\n",
              "      <th>mag_x</th>\n",
              "      <th>mag_y</th>\n",
              "      <th>mag_z</th>\n",
              "      <th>giro_x</th>\n",
              "      <th>giro_y</th>\n",
              "      <th>giro_z</th>\n",
              "      <th>mod_vector</th>\n",
              "    </tr>\n",
              "  </thead>\n",
              "  <tbody>\n",
              "    <tr>\n",
              "      <th>0</th>\n",
              "      <td>-11889</td>\n",
              "      <td>11184</td>\n",
              "      <td>-17877</td>\n",
              "      <td>-1280</td>\n",
              "      <td>-73</td>\n",
              "      <td>-309</td>\n",
              "      <td>-4013</td>\n",
              "      <td>1260</td>\n",
              "      <td>-31</td>\n",
              "      <td>24207.794323</td>\n",
              "    </tr>\n",
              "    <tr>\n",
              "      <th>1</th>\n",
              "      <td>-9144</td>\n",
              "      <td>8945</td>\n",
              "      <td>-11799</td>\n",
              "      <td>-1213</td>\n",
              "      <td>707</td>\n",
              "      <td>-238</td>\n",
              "      <td>-394</td>\n",
              "      <td>2278</td>\n",
              "      <td>-602</td>\n",
              "      <td>17402.360817</td>\n",
              "    </tr>\n",
              "    <tr>\n",
              "      <th>2</th>\n",
              "      <td>6391</td>\n",
              "      <td>9265</td>\n",
              "      <td>-11767</td>\n",
              "      <td>570</td>\n",
              "      <td>-405</td>\n",
              "      <td>-1533</td>\n",
              "      <td>-1072</td>\n",
              "      <td>-1094</td>\n",
              "      <td>1854</td>\n",
              "      <td>16283.347168</td>\n",
              "    </tr>\n",
              "    <tr>\n",
              "      <th>3</th>\n",
              "      <td>-1394</td>\n",
              "      <td>10206</td>\n",
              "      <td>-13229</td>\n",
              "      <td>671</td>\n",
              "      <td>-73</td>\n",
              "      <td>-1590</td>\n",
              "      <td>287</td>\n",
              "      <td>2253</td>\n",
              "      <td>-2760</td>\n",
              "      <td>16766.398331</td>\n",
              "    </tr>\n",
              "    <tr>\n",
              "      <th>4</th>\n",
              "      <td>-4864</td>\n",
              "      <td>5953</td>\n",
              "      <td>-10472</td>\n",
              "      <td>-84</td>\n",
              "      <td>-200</td>\n",
              "      <td>-1767</td>\n",
              "      <td>-7101</td>\n",
              "      <td>9206</td>\n",
              "      <td>-3595</td>\n",
              "      <td>12990.746283</td>\n",
              "    </tr>\n",
              "  </tbody>\n",
              "</table>\n",
              "</div>"
            ],
            "text/plain": [
              "   acc_x  acc_y  acc_z  mag_x  ...  giro_x  giro_y  giro_z    mod_vector\n",
              "0 -11889  11184 -17877  -1280  ...   -4013    1260     -31  24207.794323\n",
              "1  -9144   8945 -11799  -1213  ...    -394    2278    -602  17402.360817\n",
              "2   6391   9265 -11767    570  ...   -1072   -1094    1854  16283.347168\n",
              "3  -1394  10206 -13229    671  ...     287    2253   -2760  16766.398331\n",
              "4  -4864   5953 -10472    -84  ...   -7101    9206   -3595  12990.746283\n",
              "\n",
              "[5 rows x 10 columns]"
            ]
          },
          "metadata": {
            "tags": []
          },
          "execution_count": 4
        }
      ]
    },
    {
      "cell_type": "markdown",
      "metadata": {
        "id": "Gttk_Z6NXdiH"
      },
      "source": [
        "# KNN Classifier"
      ]
    },
    {
      "cell_type": "code",
      "metadata": {
        "colab": {
          "base_uri": "https://localhost:8080/"
        },
        "id": "KRPTnAFOYK9R",
        "outputId": "e6a652e1-df6a-4596-b420-6fbaac0f647e"
      },
      "source": [
        "# sem padronização\n",
        "clf = KNeighborsClassifier(n_neighbors=1, n_jobs=-1)\n",
        "scores = cross_val_score(clf, data_normalized, labels, cv=10)\n",
        "[print(\"{}-Fold: {:.2f}\".format(k, score)) for k, score in enumerate(scores, 1)]\n",
        "mean = np.mean(scores)\n",
        "std = np.std(scores)\n",
        "print(\"\\tAcurácia média: {:.4f}\".format(mean))\n",
        "print(\"\\tDesvio Padrão: {:}\".format(std))"
      ],
      "execution_count": 6,
      "outputs": [
        {
          "output_type": "stream",
          "text": [
            "1-Fold: 0.63\n",
            "2-Fold: 0.75\n",
            "3-Fold: 0.75\n",
            "4-Fold: 0.80\n",
            "5-Fold: 0.79\n",
            "6-Fold: 0.74\n",
            "7-Fold: 0.80\n",
            "8-Fold: 0.74\n",
            "9-Fold: 0.83\n",
            "10-Fold: 0.72\n",
            "\tAcurácia média: 0.7538\n",
            "\tDesvio Padrão: 0.054135351428109005\n"
          ],
          "name": "stdout"
        }
      ]
    },
    {
      "cell_type": "code",
      "metadata": {
        "colab": {
          "base_uri": "https://localhost:8080/"
        },
        "id": "Fok4y3V8XdRv",
        "outputId": "647c68dc-17d5-424a-903f-388902d8ddc9"
      },
      "source": [
        "# sem padronização\n",
        "clf = KNeighborsClassifier(n_neighbors=1, n_jobs=-1, weights='distance')\n",
        "scores = cross_val_score(clf, data_normalized, labels, cv=10)\n",
        "[print(\"{}-Fold: {:.2f}\".format(k, score)) for k, score in enumerate(scores, 1)]\n",
        "mean = np.mean(scores)\n",
        "std = np.std(scores)\n",
        "print(\"\\tAcurácia média: {:.4f}\".format(mean))\n",
        "print(\"\\tDesvio Padrão: {:}\".format(std))"
      ],
      "execution_count": null,
      "outputs": [
        {
          "output_type": "stream",
          "text": [
            "1-Fold: 0.74\n",
            "2-Fold: 0.75\n",
            "3-Fold: 0.79\n",
            "4-Fold: 0.81\n",
            "5-Fold: 0.86\n",
            "6-Fold: 0.74\n",
            "7-Fold: 0.86\n",
            "8-Fold: 0.72\n",
            "9-Fold: 0.83\n",
            "10-Fold: 0.78\n",
            "\tAcurácia média: 0.7887\n",
            "\tDesvio Padrão: 0.04834830110447634\n"
          ],
          "name": "stdout"
        }
      ]
    },
    {
      "cell_type": "code",
      "metadata": {
        "colab": {
          "base_uri": "https://localhost:8080/"
        },
        "id": "lVxfZB1XYN5g",
        "outputId": "4f6027e2-4a71-40f7-ca80-46d8a0e311b1"
      },
      "source": [
        "# sem padronização\n",
        "clf = KNeighborsClassifier(n_neighbors=3)\n",
        "scores = cross_val_score(clf, data_normalized, labels, cv=10)\n",
        "[print(\"{}-Fold: {:.2f}\".format(k, score)) for k, score in enumerate(scores, 1)]\n",
        "mean = np.mean(scores)\n",
        "std = np.std(scores)\n",
        "print(\"\\tAcurácia média: {:.4f}\".format(mean))\n",
        "print(\"\\tDesvio Padrão: {:}\".format(std))"
      ],
      "execution_count": 7,
      "outputs": [
        {
          "output_type": "stream",
          "text": [
            "1-Fold: 0.64\n",
            "2-Fold: 0.75\n",
            "3-Fold: 0.76\n",
            "4-Fold: 0.82\n",
            "5-Fold: 0.81\n",
            "6-Fold: 0.74\n",
            "7-Fold: 0.83\n",
            "8-Fold: 0.75\n",
            "9-Fold: 0.83\n",
            "10-Fold: 0.73\n",
            "\tAcurácia média: 0.7677\n",
            "\tDesvio Padrão: 0.056429320026297365\n"
          ],
          "name": "stdout"
        }
      ]
    },
    {
      "cell_type": "code",
      "metadata": {
        "colab": {
          "base_uri": "https://localhost:8080/"
        },
        "id": "w0F51hXYXhtc",
        "outputId": "a96b201d-a98a-4f79-a320-d188f64736b1"
      },
      "source": [
        "# com padronização\n",
        "clf = KNeighborsClassifier(n_neighbors=1)\n",
        "scores = cross_val_score(clf, data_normalized, labels, cv=10)\n",
        "[print(\"{}-Fold: {:.2f}\".format(k, score)) for k, score in enumerate(scores, 1)]\n",
        "mean = np.mean(scores)\n",
        "std = np.std(scores)\n",
        "print(\"\\tAcurácia média: {:.4f}\".format(mean))\n",
        "print(\"\\tDesvio Padrão: {:}\".format(std))"
      ],
      "execution_count": 8,
      "outputs": [
        {
          "output_type": "stream",
          "text": [
            "1-Fold: 0.63\n",
            "2-Fold: 0.75\n",
            "3-Fold: 0.75\n",
            "4-Fold: 0.80\n",
            "5-Fold: 0.79\n",
            "6-Fold: 0.74\n",
            "7-Fold: 0.80\n",
            "8-Fold: 0.74\n",
            "9-Fold: 0.83\n",
            "10-Fold: 0.72\n",
            "\tAcurácia média: 0.7538\n",
            "\tDesvio Padrão: 0.054135351428109005\n"
          ],
          "name": "stdout"
        }
      ]
    }
  ]
}