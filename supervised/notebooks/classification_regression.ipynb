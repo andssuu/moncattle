{
  "nbformat": 4,
  "nbformat_minor": 0,
  "metadata": {
    "colab": {
      "name": "classification_regression.ipynb",
      "provenance": [],
      "authorship_tag": "ABX9TyOhCHyqasf3Xoj+QsZ3Sjn4",
      "include_colab_link": true
    },
    "kernelspec": {
      "name": "python3",
      "display_name": "Python 3"
    }
  },
  "cells": [
    {
      "cell_type": "markdown",
      "metadata": {
        "id": "view-in-github",
        "colab_type": "text"
      },
      "source": [
        "<a href=\"https://colab.research.google.com/github/andssuu/moncattle/blob/master/supervised/notebooks/classification_regression.ipynb\" target=\"_parent\"><img src=\"https://colab.research.google.com/assets/colab-badge.svg\" alt=\"Open In Colab\"/></a>"
      ]
    },
    {
      "cell_type": "code",
      "metadata": {
        "colab": {
          "base_uri": "https://localhost:8080/"
        },
        "id": "Ga1a4zOiFSfw",
        "outputId": "811bfdf8-5b93-4422-f718-609da4a9b437"
      },
      "source": [
        "!git clone https://github.com/andssuu/moncattle.git"
      ],
      "execution_count": 1,
      "outputs": [
        {
          "output_type": "stream",
          "text": [
            "Cloning into 'moncattle'...\n",
            "remote: Enumerating objects: 359, done.\u001b[K\n",
            "remote: Counting objects: 100% (359/359), done.\u001b[K\n",
            "remote: Compressing objects: 100% (283/283), done.\u001b[K\n",
            "remote: Total 359 (delta 184), reused 129 (delta 54), pack-reused 0\u001b[K\n",
            "Receiving objects: 100% (359/359), 3.19 MiB | 9.24 MiB/s, done.\n",
            "Resolving deltas: 100% (184/184), done.\n"
          ],
          "name": "stdout"
        }
      ]
    },
    {
      "cell_type": "markdown",
      "metadata": {
        "id": "v6o1lP5QGCo8"
      },
      "source": [
        "# Importação das bibliotecas"
      ]
    },
    {
      "cell_type": "code",
      "metadata": {
        "id": "loFiT12GGETw"
      },
      "source": [
        "import numpy as np\n",
        "import pandas as pd\n",
        "from sklearn.model_selection import cross_val_score, StratifiedKFold\n",
        "from sklearn.linear_model import LogisticRegression"
      ],
      "execution_count": 5,
      "outputs": []
    },
    {
      "cell_type": "markdown",
      "metadata": {
        "id": "dLFnzGB6GGnM"
      },
      "source": [
        "# Leitura da base de dados"
      ]
    },
    {
      "cell_type": "code",
      "metadata": {
        "colab": {
          "base_uri": "https://localhost:8080/",
          "height": 204
        },
        "id": "WVltvAtMGIgo",
        "outputId": "e1660e40-2bc5-4aa8-8b2d-2591c9f30588"
      },
      "source": [
        "df = pd.read_csv('moncattle/data/lomba.csv')\n",
        "data = df[df.columns[1:10]]\n",
        "data_normalized = (data - data.min()) / (data.max() - data.min())\n",
        "#data_normalized = (data-data.mean())/data.std()\n",
        "labels = df[df.columns[-1]]\n",
        "mod_vector = np.sqrt(data.acc_x**2 + data.acc_y**2 + data.acc_z**2)\n",
        "pd.options.mode.chained_assignment = None\n",
        "data[\"mod_vector\"]=mod_vector\n",
        "data.head()"
      ],
      "execution_count": 3,
      "outputs": [
        {
          "output_type": "execute_result",
          "data": {
            "text/html": [
              "<div>\n",
              "<style scoped>\n",
              "    .dataframe tbody tr th:only-of-type {\n",
              "        vertical-align: middle;\n",
              "    }\n",
              "\n",
              "    .dataframe tbody tr th {\n",
              "        vertical-align: top;\n",
              "    }\n",
              "\n",
              "    .dataframe thead th {\n",
              "        text-align: right;\n",
              "    }\n",
              "</style>\n",
              "<table border=\"1\" class=\"dataframe\">\n",
              "  <thead>\n",
              "    <tr style=\"text-align: right;\">\n",
              "      <th></th>\n",
              "      <th>acc_x</th>\n",
              "      <th>acc_y</th>\n",
              "      <th>acc_z</th>\n",
              "      <th>mag_x</th>\n",
              "      <th>mag_y</th>\n",
              "      <th>mag_z</th>\n",
              "      <th>giro_x</th>\n",
              "      <th>giro_y</th>\n",
              "      <th>giro_z</th>\n",
              "      <th>mod_vector</th>\n",
              "    </tr>\n",
              "  </thead>\n",
              "  <tbody>\n",
              "    <tr>\n",
              "      <th>0</th>\n",
              "      <td>-11889</td>\n",
              "      <td>11184</td>\n",
              "      <td>-17877</td>\n",
              "      <td>-1280</td>\n",
              "      <td>-73</td>\n",
              "      <td>-309</td>\n",
              "      <td>-4013</td>\n",
              "      <td>1260</td>\n",
              "      <td>-31</td>\n",
              "      <td>24207.794323</td>\n",
              "    </tr>\n",
              "    <tr>\n",
              "      <th>1</th>\n",
              "      <td>-9144</td>\n",
              "      <td>8945</td>\n",
              "      <td>-11799</td>\n",
              "      <td>-1213</td>\n",
              "      <td>707</td>\n",
              "      <td>-238</td>\n",
              "      <td>-394</td>\n",
              "      <td>2278</td>\n",
              "      <td>-602</td>\n",
              "      <td>17402.360817</td>\n",
              "    </tr>\n",
              "    <tr>\n",
              "      <th>2</th>\n",
              "      <td>6391</td>\n",
              "      <td>9265</td>\n",
              "      <td>-11767</td>\n",
              "      <td>570</td>\n",
              "      <td>-405</td>\n",
              "      <td>-1533</td>\n",
              "      <td>-1072</td>\n",
              "      <td>-1094</td>\n",
              "      <td>1854</td>\n",
              "      <td>16283.347168</td>\n",
              "    </tr>\n",
              "    <tr>\n",
              "      <th>3</th>\n",
              "      <td>-1394</td>\n",
              "      <td>10206</td>\n",
              "      <td>-13229</td>\n",
              "      <td>671</td>\n",
              "      <td>-73</td>\n",
              "      <td>-1590</td>\n",
              "      <td>287</td>\n",
              "      <td>2253</td>\n",
              "      <td>-2760</td>\n",
              "      <td>16766.398331</td>\n",
              "    </tr>\n",
              "    <tr>\n",
              "      <th>4</th>\n",
              "      <td>-4864</td>\n",
              "      <td>5953</td>\n",
              "      <td>-10472</td>\n",
              "      <td>-84</td>\n",
              "      <td>-200</td>\n",
              "      <td>-1767</td>\n",
              "      <td>-7101</td>\n",
              "      <td>9206</td>\n",
              "      <td>-3595</td>\n",
              "      <td>12990.746283</td>\n",
              "    </tr>\n",
              "  </tbody>\n",
              "</table>\n",
              "</div>"
            ],
            "text/plain": [
              "   acc_x  acc_y  acc_z  mag_x  ...  giro_x  giro_y  giro_z    mod_vector\n",
              "0 -11889  11184 -17877  -1280  ...   -4013    1260     -31  24207.794323\n",
              "1  -9144   8945 -11799  -1213  ...    -394    2278    -602  17402.360817\n",
              "2   6391   9265 -11767    570  ...   -1072   -1094    1854  16283.347168\n",
              "3  -1394  10206 -13229    671  ...     287    2253   -2760  16766.398331\n",
              "4  -4864   5953 -10472    -84  ...   -7101    9206   -3595  12990.746283\n",
              "\n",
              "[5 rows x 10 columns]"
            ]
          },
          "metadata": {
            "tags": []
          },
          "execution_count": 3
        }
      ]
    },
    {
      "cell_type": "markdown",
      "metadata": {
        "id": "MT6apD3BGL1d"
      },
      "source": [
        "# Logistic Regression"
      ]
    },
    {
      "cell_type": "code",
      "metadata": {
        "colab": {
          "base_uri": "https://localhost:8080/"
        },
        "id": "miwC1E7zGXOF",
        "outputId": "22f1d655-5e9f-4e1c-80fa-f478019d3162"
      },
      "source": [
        "# sem padronização\n",
        "clf = LogisticRegression(multi_class='multinomial', solver='lbfgs', =n_jobs=1)\n",
        "scores = cross_val_score(clf, data_normalized, labels, cv=10)\n",
        "[print(\"{}-Fold: {:.2f}\".format(k, score)) for k, score in enumerate(scores, 1)]\n",
        "mean = np.mean(scores)\n",
        "std = np.std(scores)\n",
        "print(\"\\tAcurácia média: {:.4f}\".format(mean))\n",
        "print(\"\\tDesvio Padrão: {:}\".format(std))"
      ],
      "execution_count": 7,
      "outputs": [
        {
          "output_type": "stream",
          "text": [
            "/usr/local/lib/python3.6/dist-packages/sklearn/linear_model/_logistic.py:940: ConvergenceWarning: lbfgs failed to converge (status=1):\n",
            "STOP: TOTAL NO. of ITERATIONS REACHED LIMIT.\n",
            "\n",
            "Increase the number of iterations (max_iter) or scale the data as shown in:\n",
            "    https://scikit-learn.org/stable/modules/preprocessing.html\n",
            "Please also refer to the documentation for alternative solver options:\n",
            "    https://scikit-learn.org/stable/modules/linear_model.html#logistic-regression\n",
            "  extra_warning_msg=_LOGISTIC_SOLVER_CONVERGENCE_MSG)\n",
            "/usr/local/lib/python3.6/dist-packages/sklearn/linear_model/_logistic.py:940: ConvergenceWarning: lbfgs failed to converge (status=1):\n",
            "STOP: TOTAL NO. of ITERATIONS REACHED LIMIT.\n",
            "\n",
            "Increase the number of iterations (max_iter) or scale the data as shown in:\n",
            "    https://scikit-learn.org/stable/modules/preprocessing.html\n",
            "Please also refer to the documentation for alternative solver options:\n",
            "    https://scikit-learn.org/stable/modules/linear_model.html#logistic-regression\n",
            "  extra_warning_msg=_LOGISTIC_SOLVER_CONVERGENCE_MSG)\n",
            "/usr/local/lib/python3.6/dist-packages/sklearn/linear_model/_logistic.py:940: ConvergenceWarning: lbfgs failed to converge (status=1):\n",
            "STOP: TOTAL NO. of ITERATIONS REACHED LIMIT.\n",
            "\n",
            "Increase the number of iterations (max_iter) or scale the data as shown in:\n",
            "    https://scikit-learn.org/stable/modules/preprocessing.html\n",
            "Please also refer to the documentation for alternative solver options:\n",
            "    https://scikit-learn.org/stable/modules/linear_model.html#logistic-regression\n",
            "  extra_warning_msg=_LOGISTIC_SOLVER_CONVERGENCE_MSG)\n",
            "/usr/local/lib/python3.6/dist-packages/sklearn/linear_model/_logistic.py:940: ConvergenceWarning: lbfgs failed to converge (status=1):\n",
            "STOP: TOTAL NO. of ITERATIONS REACHED LIMIT.\n",
            "\n",
            "Increase the number of iterations (max_iter) or scale the data as shown in:\n",
            "    https://scikit-learn.org/stable/modules/preprocessing.html\n",
            "Please also refer to the documentation for alternative solver options:\n",
            "    https://scikit-learn.org/stable/modules/linear_model.html#logistic-regression\n",
            "  extra_warning_msg=_LOGISTIC_SOLVER_CONVERGENCE_MSG)\n",
            "/usr/local/lib/python3.6/dist-packages/sklearn/linear_model/_logistic.py:940: ConvergenceWarning: lbfgs failed to converge (status=1):\n",
            "STOP: TOTAL NO. of ITERATIONS REACHED LIMIT.\n",
            "\n",
            "Increase the number of iterations (max_iter) or scale the data as shown in:\n",
            "    https://scikit-learn.org/stable/modules/preprocessing.html\n",
            "Please also refer to the documentation for alternative solver options:\n",
            "    https://scikit-learn.org/stable/modules/linear_model.html#logistic-regression\n",
            "  extra_warning_msg=_LOGISTIC_SOLVER_CONVERGENCE_MSG)\n",
            "/usr/local/lib/python3.6/dist-packages/sklearn/linear_model/_logistic.py:940: ConvergenceWarning: lbfgs failed to converge (status=1):\n",
            "STOP: TOTAL NO. of ITERATIONS REACHED LIMIT.\n",
            "\n",
            "Increase the number of iterations (max_iter) or scale the data as shown in:\n",
            "    https://scikit-learn.org/stable/modules/preprocessing.html\n",
            "Please also refer to the documentation for alternative solver options:\n",
            "    https://scikit-learn.org/stable/modules/linear_model.html#logistic-regression\n",
            "  extra_warning_msg=_LOGISTIC_SOLVER_CONVERGENCE_MSG)\n",
            "/usr/local/lib/python3.6/dist-packages/sklearn/linear_model/_logistic.py:940: ConvergenceWarning: lbfgs failed to converge (status=1):\n",
            "STOP: TOTAL NO. of ITERATIONS REACHED LIMIT.\n",
            "\n",
            "Increase the number of iterations (max_iter) or scale the data as shown in:\n",
            "    https://scikit-learn.org/stable/modules/preprocessing.html\n",
            "Please also refer to the documentation for alternative solver options:\n",
            "    https://scikit-learn.org/stable/modules/linear_model.html#logistic-regression\n",
            "  extra_warning_msg=_LOGISTIC_SOLVER_CONVERGENCE_MSG)\n",
            "/usr/local/lib/python3.6/dist-packages/sklearn/linear_model/_logistic.py:940: ConvergenceWarning: lbfgs failed to converge (status=1):\n",
            "STOP: TOTAL NO. of ITERATIONS REACHED LIMIT.\n",
            "\n",
            "Increase the number of iterations (max_iter) or scale the data as shown in:\n",
            "    https://scikit-learn.org/stable/modules/preprocessing.html\n",
            "Please also refer to the documentation for alternative solver options:\n",
            "    https://scikit-learn.org/stable/modules/linear_model.html#logistic-regression\n",
            "  extra_warning_msg=_LOGISTIC_SOLVER_CONVERGENCE_MSG)\n",
            "/usr/local/lib/python3.6/dist-packages/sklearn/linear_model/_logistic.py:940: ConvergenceWarning: lbfgs failed to converge (status=1):\n",
            "STOP: TOTAL NO. of ITERATIONS REACHED LIMIT.\n",
            "\n",
            "Increase the number of iterations (max_iter) or scale the data as shown in:\n",
            "    https://scikit-learn.org/stable/modules/preprocessing.html\n",
            "Please also refer to the documentation for alternative solver options:\n",
            "    https://scikit-learn.org/stable/modules/linear_model.html#logistic-regression\n",
            "  extra_warning_msg=_LOGISTIC_SOLVER_CONVERGENCE_MSG)\n"
          ],
          "name": "stderr"
        },
        {
          "output_type": "stream",
          "text": [
            "1-Fold: 0.63\n",
            "2-Fold: 0.58\n",
            "3-Fold: 0.69\n",
            "4-Fold: 0.76\n",
            "5-Fold: 0.76\n",
            "6-Fold: 0.68\n",
            "7-Fold: 0.80\n",
            "8-Fold: 0.74\n",
            "9-Fold: 0.76\n",
            "10-Fold: 0.76\n",
            "\tAcurácia média: 0.7154\n",
            "\tDesvio Padrão: 0.06705724273854535\n"
          ],
          "name": "stdout"
        },
        {
          "output_type": "stream",
          "text": [
            "/usr/local/lib/python3.6/dist-packages/sklearn/linear_model/_logistic.py:940: ConvergenceWarning: lbfgs failed to converge (status=1):\n",
            "STOP: TOTAL NO. of ITERATIONS REACHED LIMIT.\n",
            "\n",
            "Increase the number of iterations (max_iter) or scale the data as shown in:\n",
            "    https://scikit-learn.org/stable/modules/preprocessing.html\n",
            "Please also refer to the documentation for alternative solver options:\n",
            "    https://scikit-learn.org/stable/modules/linear_model.html#logistic-regression\n",
            "  extra_warning_msg=_LOGISTIC_SOLVER_CONVERGENCE_MSG)\n"
          ],
          "name": "stderr"
        }
      ]
    }
  ]
}