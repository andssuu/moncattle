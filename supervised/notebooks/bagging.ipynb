{
  "nbformat": 4,
  "nbformat_minor": 0,
  "metadata": {
    "colab": {
      "name": "bagging.ipynb",
      "provenance": [],
      "collapsed_sections": [],
      "authorship_tag": "ABX9TyNsTWC3XAOjc2NbNXD3y/Pn",
      "include_colab_link": true
    },
    "kernelspec": {
      "name": "python3",
      "display_name": "Python 3"
    }
  },
  "cells": [
    {
      "cell_type": "markdown",
      "metadata": {
        "id": "view-in-github",
        "colab_type": "text"
      },
      "source": [
        "<a href=\"https://colab.research.google.com/github/andssuu/moncattle/blob/master/supervised/notebooks/bagging.ipynb\" target=\"_parent\"><img src=\"https://colab.research.google.com/assets/colab-badge.svg\" alt=\"Open In Colab\"/></a>"
      ]
    },
    {
      "cell_type": "code",
      "metadata": {
        "colab": {
          "base_uri": "https://localhost:8080/"
        },
        "id": "ThSBQq5YL74v",
        "outputId": "b7a96c6c-2fec-40d9-c255-9e3d1beacc77"
      },
      "source": [
        "!git clone https://github.com/andssuu/moncattle.git "
      ],
      "execution_count": 3,
      "outputs": [
        {
          "output_type": "stream",
          "text": [
            "Cloning into 'moncattle'...\n",
            "remote: Enumerating objects: 369, done.\u001b[K\n",
            "remote: Counting objects: 100% (369/369), done.\u001b[K\n",
            "remote: Compressing objects: 100% (293/293), done.\u001b[K\n",
            "remote: Total 369 (delta 192), reused 129 (delta 54), pack-reused 0\u001b[K\n",
            "Receiving objects: 100% (369/369), 3.20 MiB | 7.40 MiB/s, done.\n",
            "Resolving deltas: 100% (192/192), done.\n"
          ],
          "name": "stdout"
        }
      ]
    },
    {
      "cell_type": "markdown",
      "metadata": {
        "id": "wRgqmsePP5vI"
      },
      "source": [
        "# Importação das bibliotecas"
      ]
    },
    {
      "cell_type": "code",
      "metadata": {
        "id": "-76KSXLEP7rS"
      },
      "source": [
        "import numpy as np\n",
        "import pandas as pd\n",
        "from sklearn.model_selection import cross_val_score, StratifiedKFold\n",
        "from sklearn.ensemble import BaggingClassifier, RandomForestClassifier"
      ],
      "execution_count": 7,
      "outputs": []
    },
    {
      "cell_type": "markdown",
      "metadata": {
        "id": "cg-q_Vp5P-8u"
      },
      "source": [
        "# Leitura da base de dados"
      ]
    },
    {
      "cell_type": "code",
      "metadata": {
        "colab": {
          "base_uri": "https://localhost:8080/",
          "height": 204
        },
        "id": "VNeu0ueLQAZ1",
        "outputId": "a505006e-8199-4054-c30e-f4ee269e6fe2"
      },
      "source": [
        "df = pd.read_csv('moncattle/data/lomba.csv')\n",
        "data = df[df.columns[1:10]]\n",
        "data_normalized = (data - data.min()) / (data.max() - data.min())\n",
        "labels = df[df.columns[-1]]\n",
        "data.head()"
      ],
      "execution_count": 4,
      "outputs": [
        {
          "output_type": "execute_result",
          "data": {
            "text/html": [
              "<div>\n",
              "<style scoped>\n",
              "    .dataframe tbody tr th:only-of-type {\n",
              "        vertical-align: middle;\n",
              "    }\n",
              "\n",
              "    .dataframe tbody tr th {\n",
              "        vertical-align: top;\n",
              "    }\n",
              "\n",
              "    .dataframe thead th {\n",
              "        text-align: right;\n",
              "    }\n",
              "</style>\n",
              "<table border=\"1\" class=\"dataframe\">\n",
              "  <thead>\n",
              "    <tr style=\"text-align: right;\">\n",
              "      <th></th>\n",
              "      <th>acc_x</th>\n",
              "      <th>acc_y</th>\n",
              "      <th>acc_z</th>\n",
              "      <th>mag_x</th>\n",
              "      <th>mag_y</th>\n",
              "      <th>mag_z</th>\n",
              "      <th>giro_x</th>\n",
              "      <th>giro_y</th>\n",
              "      <th>giro_z</th>\n",
              "    </tr>\n",
              "  </thead>\n",
              "  <tbody>\n",
              "    <tr>\n",
              "      <th>0</th>\n",
              "      <td>-11889</td>\n",
              "      <td>11184</td>\n",
              "      <td>-17877</td>\n",
              "      <td>-1280</td>\n",
              "      <td>-73</td>\n",
              "      <td>-309</td>\n",
              "      <td>-4013</td>\n",
              "      <td>1260</td>\n",
              "      <td>-31</td>\n",
              "    </tr>\n",
              "    <tr>\n",
              "      <th>1</th>\n",
              "      <td>-9144</td>\n",
              "      <td>8945</td>\n",
              "      <td>-11799</td>\n",
              "      <td>-1213</td>\n",
              "      <td>707</td>\n",
              "      <td>-238</td>\n",
              "      <td>-394</td>\n",
              "      <td>2278</td>\n",
              "      <td>-602</td>\n",
              "    </tr>\n",
              "    <tr>\n",
              "      <th>2</th>\n",
              "      <td>6391</td>\n",
              "      <td>9265</td>\n",
              "      <td>-11767</td>\n",
              "      <td>570</td>\n",
              "      <td>-405</td>\n",
              "      <td>-1533</td>\n",
              "      <td>-1072</td>\n",
              "      <td>-1094</td>\n",
              "      <td>1854</td>\n",
              "    </tr>\n",
              "    <tr>\n",
              "      <th>3</th>\n",
              "      <td>-1394</td>\n",
              "      <td>10206</td>\n",
              "      <td>-13229</td>\n",
              "      <td>671</td>\n",
              "      <td>-73</td>\n",
              "      <td>-1590</td>\n",
              "      <td>287</td>\n",
              "      <td>2253</td>\n",
              "      <td>-2760</td>\n",
              "    </tr>\n",
              "    <tr>\n",
              "      <th>4</th>\n",
              "      <td>-4864</td>\n",
              "      <td>5953</td>\n",
              "      <td>-10472</td>\n",
              "      <td>-84</td>\n",
              "      <td>-200</td>\n",
              "      <td>-1767</td>\n",
              "      <td>-7101</td>\n",
              "      <td>9206</td>\n",
              "      <td>-3595</td>\n",
              "    </tr>\n",
              "  </tbody>\n",
              "</table>\n",
              "</div>"
            ],
            "text/plain": [
              "   acc_x  acc_y  acc_z  mag_x  mag_y  mag_z  giro_x  giro_y  giro_z\n",
              "0 -11889  11184 -17877  -1280    -73   -309   -4013    1260     -31\n",
              "1  -9144   8945 -11799  -1213    707   -238    -394    2278    -602\n",
              "2   6391   9265 -11767    570   -405  -1533   -1072   -1094    1854\n",
              "3  -1394  10206 -13229    671    -73  -1590     287    2253   -2760\n",
              "4  -4864   5953 -10472    -84   -200  -1767   -7101    9206   -3595"
            ]
          },
          "metadata": {
            "tags": []
          },
          "execution_count": 4
        }
      ]
    },
    {
      "cell_type": "markdown",
      "metadata": {
        "id": "9NBkMJAxQF6m"
      },
      "source": [
        "# Bagging Classifier"
      ]
    },
    {
      "cell_type": "code",
      "metadata": {
        "colab": {
          "base_uri": "https://localhost:8080/"
        },
        "id": "aejDWYnQQrBH",
        "outputId": "e35f7079-2c01-42a1-d022-9a969b8e6eeb"
      },
      "source": [
        "# sem padronização\n",
        "# clf = BaggingClassifier()\n",
        "clf = BaggingClassifier(base_estimator=RandomForestClassifier(n_estimators=100))\n",
        "scores = cross_val_score(clf, data, labels, cv=10)\n",
        "[print(\"{}-Fold: {:.2f}\".format(k, score)) for k, score in enumerate(scores, 1)]\n",
        "mean = np.mean(scores)\n",
        "std = np.std(scores)\n",
        "print(\"\\tAcurácia média: {:.4f}\".format(mean))\n",
        "print(\"\\tDesvio Padrão: {:}\".format(std))"
      ],
      "execution_count": 8,
      "outputs": [
        {
          "output_type": "stream",
          "text": [
            "1-Fold: 0.77\n",
            "2-Fold: 0.67\n",
            "3-Fold: 0.78\n",
            "4-Fold: 0.86\n",
            "5-Fold: 0.88\n",
            "6-Fold: 0.76\n",
            "7-Fold: 0.88\n",
            "8-Fold: 0.73\n",
            "9-Fold: 0.86\n",
            "10-Fold: 0.82\n",
            "\tAcurácia média: 0.8017\n",
            "\tDesvio Padrão: 0.06692703545663975\n"
          ],
          "name": "stdout"
        }
      ]
    },
    {
      "cell_type": "code",
      "metadata": {
        "colab": {
          "base_uri": "https://localhost:8080/"
        },
        "id": "gEAsP5NBQPjG",
        "outputId": "398b9b9d-b646-400d-d002-e00eb6bd3027"
      },
      "source": [
        "# com padronização\n",
        "clf = BaggingClassifier(base_estimator=SVC())\n",
        "scores = cross_val_score(clf, data_normalized, labels, cv=10)\n",
        "[print(\"{}-Fold: {:.2f}\".format(k, score)) for k, score in enumerate(scores, 1)]\n",
        "mean = np.mean(scores)\n",
        "std = np.std(scores)\n",
        "print(\"\\tAcurácia média: {:.4f}\".format(mean))\n",
        "print(\"\\tDesvio Padrão: {:}\".format(std))"
      ],
      "execution_count": null,
      "outputs": [
        {
          "output_type": "stream",
          "text": [
            "1-Fold: 0.78\n",
            "2-Fold: 0.62\n",
            "3-Fold: 0.69\n",
            "4-Fold: 0.79\n",
            "5-Fold: 0.81\n",
            "6-Fold: 0.72\n",
            "7-Fold: 0.85\n",
            "8-Fold: 0.67\n",
            "9-Fold: 0.82\n",
            "10-Fold: 0.76\n",
            "\tAcurácia média: 0.7516\n",
            "\tDesvio Padrão: 0.0683569043228629\n"
          ],
          "name": "stdout"
        }
      ]
    }
  ]
}