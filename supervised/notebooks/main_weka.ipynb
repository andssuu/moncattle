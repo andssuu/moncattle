{
  "nbformat": 4,
  "nbformat_minor": 0,
  "metadata": {
    "colab": {
      "name": "main_weka.ipynb",
      "provenance": [],
      "authorship_tag": "ABX9TyNEMyszXGrR6qKRGuFPjq0y",
      "include_colab_link": true
    },
    "kernelspec": {
      "name": "python3",
      "display_name": "Python 3"
    }
  },
  "cells": [
    {
      "cell_type": "markdown",
      "metadata": {
        "id": "view-in-github",
        "colab_type": "text"
      },
      "source": [
        "<a href=\"https://colab.research.google.com/github/andssuu/moncattle/blob/master/supervised/notebooks/main_weka.ipynb\" target=\"_parent\"><img src=\"https://colab.research.google.com/assets/colab-badge.svg\" alt=\"Open In Colab\"/></a>"
      ]
    },
    {
      "cell_type": "markdown",
      "metadata": {
        "id": "WTzwmJ-aXVZM"
      },
      "source": [
        "## Weka vs Python\n",
        "\n",
        "A tabela abaixo contém os dados dos classificadores que obtiveram as melhores acurácias baseados nos dados dos sensores acelerômetro, giroscópio e magnetômetro. Dados da velocidade do descolacamento (GPS) foram desconsiderados.\n",
        "\n",
        "Categoria | Algoritmo | Acurácia (%) | Acurácia¹ (%) \n",
        "--- | --- | --- | ---\n",
        "trees | Random Forest | 89.8991 | ?\n",
        "meta | Rotation Forest | 89.5935 | ?\n",
        "meta | Random Committee | 88.9288 | ?\n",
        "meta | END | NA | NA\n",
        "meta | Bagging | 88.0043 | ?\n",
        "meta | Decorate | 87.8973 | ?\n",
        "lazy | IB1 | 88.8906 | ?\n",
        "lazy | IBk |  88.8906 | ?\n",
        "trees | J48 graft | 85.4676 | ?\n",
        "meta | Classification Via Regression | 87.0798 | ?\n",
        "¹ Novas acurácias obtidas nas implementações com Python.\n",
        "\n",
        "Apesar de haver algumas mudanças em relação à ordem da acurácia dos classificadores, foi preservada a ordem em relação aos experimentos anteriores.\n"
      ]
    },
    {
      "cell_type": "markdown",
      "metadata": {
        "id": "SOTn9jH8iTXF"
      },
      "source": [
        "# Notebooks\n",
        "\n",
        "*   [Random Forest](https://)\n",
        "*   [Rotation Forest](https://)\n",
        "*   [Random Committee](https://)\n",
        "*   [END](https://)\n",
        "*   [Bagging](https://)\n",
        "*   [Decorate](https://)\n",
        "*   [IB1](https://)\n",
        "*   [IBk](https://)\n",
        "*   [J48 graft](https://)\n",
        "*   [Classification Via Regression](https://)\n"
      ]
    }
  ]
}