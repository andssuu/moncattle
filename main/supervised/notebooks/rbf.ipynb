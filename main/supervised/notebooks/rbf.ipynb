{
  "nbformat": 4,
  "nbformat_minor": 0,
  "metadata": {
    "colab": {
      "name": "rbf",
      "provenance": [],
      "collapsed_sections": [],
      "toc_visible": true
    },
    "kernelspec": {
      "name": "python3",
      "display_name": "Python 3"
    }
  },
  "cells": [
    {
      "cell_type": "code",
      "metadata": {
        "id": "VHWuP3AXjvq1",
        "colab": {
          "base_uri": "https://localhost:8080/"
        },
        "outputId": "7f0514a7-a822-4d0c-a1a4-6a2e2ab629e5"
      },
      "source": [
        "!git clone https://github.com/andssuu/moncattle.git"
      ],
      "execution_count": 9,
      "outputs": [
        {
          "output_type": "stream",
          "text": [
            "fatal: destination path 'moncattle' already exists and is not an empty directory.\n"
          ],
          "name": "stdout"
        }
      ]
    },
    {
      "cell_type": "code",
      "metadata": {
        "id": "YeqYYe9hPY4v",
        "colab": {
          "base_uri": "https://localhost:8080/"
        },
        "outputId": "815116e2-7116-476a-af2f-60e5e7211a3c"
      },
      "source": [
        "from sklearn.cluster import KMeans\n",
        "from sklearn import preprocessing\n",
        "from sklearn.model_selection import train_test_split\n",
        "import pandas as pd\n",
        "import numpy as np\n",
        "\n",
        "\n",
        "def rbfGaussiana(x, c, s):\n",
        "    return np.exp(-1 / (2 * s**2) * (x-c)**2)\n",
        "\n",
        "\n",
        "def computeEqualStds(centers, k):\n",
        "    dist = [np.sqrt(np.sum((c1 - c2) ** 2))\n",
        "            for c1 in centers for c2 in centers]\n",
        "    dMax = np.max(dist)\n",
        "    stds = np.repeat(dMax / np.sqrt(2 * k), k)\n",
        "    return stds\n",
        "\n",
        "\n",
        "class RBFNet(object):\n",
        "    \"\"\"Implementation of a Radial Basis Function Network\"\"\"\n",
        "\n",
        "    def __init__(self, k=3, attnumber=4, lr=0.01, epochs=100, rbf=rbfGaussiana, computeStds=computeEqualStds):\n",
        "        self.k = k  # grupos ou numero de neuronios na camada escondida\n",
        "        self.lr = lr  # taxa de aprendizagem\n",
        "        self.epochs = epochs  # número de iterações\n",
        "        self.rbf = rbf  # função de base radial\n",
        "        self.computeStds = computeStds  # função de cálculo da largura do campo receptivo\n",
        "        self.w = np.random.randn(self.k, attnumber)\n",
        "        self.b = np.random.randn(1)\n",
        "\n",
        "    def fit(self, X, y):\n",
        "        self.stds = []\n",
        "        # K-Means pra pegar os centros inicias\n",
        "        # 1º parâmetro da rede RBF\n",
        "        kmeans = KMeans(\n",
        "            n_clusters=self.k, init='random',\n",
        "            n_init=10, max_iter=300).fit(X)\n",
        "        self.centers = kmeans.cluster_centers_\n",
        "        #print('centers: ', self.centers)\n",
        "\n",
        "        # Cálculo da largura do campo receptivo\n",
        "        # 2º parâmetro da rede RBF\n",
        "        self.stds = self.computeStds(self.centers, self.k)\n",
        "        # training\n",
        "        for epoch in range(self.epochs):\n",
        "            for i in range(X.shape[0]):\n",
        "                # forward pass\n",
        "                # calcula a saída de cada neurônio da função de base radial\n",
        "                phi = np.array([self.rbf(X[i], c, s)\n",
        "                                for c, s, in zip(self.centers, self.stds)])\n",
        "                # calcula somatório do produto da saída da função de base radial e os pesos\n",
        "                F = phi.T.dot(self.w)\n",
        "                F = np.sum(F) + self.b\n",
        "                # saída da rede\n",
        "                out = 0 if F < 0 else 1\n",
        "                # função de perda\n",
        "                loss = (y[i] - out).flatten() ** 2\n",
        "                #print('Loss: {0:.2f}'.format(loss[0]))\n",
        "                # cálculo do erro\n",
        "                error = (y[i] - out).flatten()\n",
        "                # atualização dos pesos\n",
        "                # 3º Parâmetro da rede\n",
        "                self.w = self.w + self.lr * error * phi\n",
        "                self.b = self.b + self.lr * error\n",
        "\n",
        "    # calcula saída da rede RBF com a rede treinada\n",
        "    def predict(self, X):\n",
        "        y_pred = []\n",
        "        error = 0\n",
        "        for i in range(X.shape[0]):\n",
        "            a = np.array([self.rbf(X[i], c, s)\n",
        "                          for c, s, in zip(self.centers, self.stds)])\n",
        "            F = a.T.dot(self.w)\n",
        "            F = np.sum(F) + self.b\n",
        "            out = 0 if F < 0 else 1\n",
        "            y_pred.append(out)\n",
        "        return np.array(y_pred)\n",
        "\n",
        "\n",
        "def load_data():\n",
        "    url = 'moncattle/data/lomba.csv'\n",
        "    df = pd.read_csv(url)\n",
        "    # remove a ultima coluna (dados)\n",
        "    data = df[df.columns[1:10]]\n",
        "    # normaliza os dados\n",
        "    normalized_data = (data - data.min()) / (data.max() - data.min())\n",
        "    # retorna a última coluna (rótulos)\n",
        "    labels = df[df.columns[-1]]\n",
        "    # separa em conjunto de treinamento e teste com seus respectivos rótulos\n",
        "    X_train, X_test, y_train, y_test = train_test_split(\n",
        "        normalized_data, labels, test_size=0.2, random_state=0)\n",
        "    return X_train, X_test, y_train, y_test\n",
        "\n",
        "\n",
        "# chama função que carrega base de dados\n",
        "training_inputs, test_inputs, training_labels, test_labels = load_data()\n",
        "# transforma rótulos do conjunto de treinamento em numeros pra calculo do erro\n",
        "le = preprocessing.LabelEncoder()\n",
        "le.fit(training_labels.values)\n",
        "training_labels_transformed = le.transform(training_labels.values)\n",
        "# chama RBF\n",
        "rbfnet = RBFNet(lr=1e-2, attnumber=9, k=4, computeStds=computeEqualStds)\n",
        "rbfnet.fit(training_inputs.values, training_labels_transformed)\n",
        "# transforma rótulos do conjunto de teste em numeros pra calculo do erro\n",
        "le = preprocessing.LabelEncoder()\n",
        "le.fit(test_labels.values)\n",
        "test_labels_transformed = le.transform(test_labels.values)\n",
        "#y_pred = rbfnet.predict(test_labels_transformed)\n",
        "y_pred = rbfnet.predict(test_inputs.values)\n",
        "errorabs = sum(abs(test_labels_transformed-y_pred) == 0)\n",
        "print('error: ', np.sum(errorabs)/len(test_labels_transformed))\n"
      ],
      "execution_count": 12,
      "outputs": [
        {
          "output_type": "stream",
          "text": [
            "error:  0.2857142857142857\n"
          ],
          "name": "stdout"
        }
      ]
    }
  ]
}